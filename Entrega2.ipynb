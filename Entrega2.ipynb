{
 "cells": [
  {
   "attachments": {
    "BA%20Data%20Logo.png": {
     "image/png": "[encoded data removed]"
    }
   },
   "cell_type": "markdown",
   "id": "6965e9f4",
   "metadata": {},
   "source": [
    "# PROYECTO DE PREDICCIÓN DE TENDENCIAS EN LA MOVILIDAD EN CABA\n",
    "\n",
    "## STRAWBERRY TEAM - Ingenias Data Science\n",
    "\n",
    "![Ingenias%20Logo.png](file:///C:/Users/USUARIO/Documents/PROYECTO%20INGENIAS%20YPF/Ingenias%20Logo.png)\n",
    "\n",
    "Integrantes: Ludmila Yerfino, Ingeniera Industrial, Malargüe - Mendoza - Argentina\n",
    "             Marcela Luciana Tobes, Licenciada en Economía, La Plata - Buenos Aires - Argentina\n",
    "             Marcela Karina Salas, Industria del Petróleo, Comodoro Rivadavia - Chubut - Argentina\n",
    "             Marcela Adriana Salvattore, Abogada, Corrientes - Corrientes -Argentina\n",
    "\n",
    "## Objetivo\n",
    "Analizar las tendencias en la movilidad en la Ciudad de Buenos Aires para con esa información poder, mediante la aplicación de modelos predictivos, establecer la proyección para la definición de los flujos de movimiento y en base a ello, diseñar estrategias de abordaje desde la política pública.\n",
    "\n",
    "## Fuentes de Información\n",
    "Se tomó la Encuesta de Movilidad Domiciliaria 2018 generada por la Subsecretaría de Planificación de la Movilidad, de la Dirección General de Planificación, Uso y Evaluación, dependiente de la Gerencia Operativa del Observatorio de Movilidad y Seguridad Vial del Gobierno de la Ciudad de Buenos Aires.\n",
    "\n",
    "Esta encuesta incluye las bases de hogares, personas, viajes, etapas, un diccionario de registros y el cuestionario utilizado.\n",
    "\n",
    "[Encuesta de Movilidad Domiciliaria 2018](https://data.buenosaires.gob.ar/dataset/encuesta-movilidad-domiciliaria)\n",
    "![BA%20Data%20Logo.png](attachment:BA%20Data%20Logo.png)\n",
    "\n",
    "## Requerimientos técnicos\n",
    "Para poder trabajar en la base de datos que creamos a partir de la fusión de las 3 bases que contenía la encuesta, utilizamos un entorno Anaconda, con Jupyter Notebook como interfaz y debimos hacer uso de las siguientes librerías: Pandas, NumPy, Seaborn, Matplotlib y Scikit-Learn.\n",
    "\n"
   ]
  },
  {
   "cell_type": "code",
   "execution_count": null,
   "id": "7899679b",
   "metadata": {},
   "outputs": [],
   "source": []
  },
  {
   "cell_type": "code",
   "execution_count": null,
   "id": "c706bd14",
   "metadata": {},
   "outputs": [],
   "source": []
  }
 ],
 "metadata": {
  "kernelspec": {
   "display_name": "Python 3 (ipykernel)",
   "language": "python",
   "name": "python3"
  },
  "language_info": {
   "codemirror_mode": {
    "name": "ipython",
    "version": 3
   },
   "file_extension": ".py",
   "mimetype": "text/x-python",
   "name": "python",
   "nbconvert_exporter": "python",
   "pygments_lexer": "ipython3",
   "version": "3.11.4"
  }
 },
 "nbformat": 4,
 "nbformat_minor": 5
}
