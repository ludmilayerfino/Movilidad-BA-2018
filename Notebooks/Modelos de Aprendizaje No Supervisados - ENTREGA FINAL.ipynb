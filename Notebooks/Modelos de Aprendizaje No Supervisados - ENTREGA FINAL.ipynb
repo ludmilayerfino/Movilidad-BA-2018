{
 "cells": [
  {
   "cell_type": "markdown",
   "id": "oaqhkMjS-rbe",
   "metadata": {
    "id": "oaqhkMjS-rbe"
   },
   "source": [
    "## INGENIAS - Grupo 6. Aprendizaje No Supervisado - Modelos de Clustering"
   ]
  },
  {
   "cell_type": "markdown",
   "id": "7PB3rJRI_STh",
   "metadata": {
    "id": "7PB3rJRI_STh"
   },
   "source": [
    "## Carga de datos"
   ]
  },
  {
   "cell_type": "code",
   "execution_count": 1,
   "id": "87c2c9bb",
   "metadata": {
    "id": "87c2c9bb"
   },
   "outputs": [],
   "source": [
    "#Importamos librerías con las que se van a trabajar\n",
    "import pandas as pd\n",
    "import numpy as np\n",
    "import matplotlib.pyplot as plt\n",
    "import matplotlib.font_manager\n",
    "from matplotlib import style\n",
    "style.use('ggplot') or plt.style.use('ggplot')\n",
    "import seaborn as sns\n",
    "from scipy import stats\n",
    "import sklearn\n",
    "from sklearn.preprocessing import StandardScaler\n",
    "from sklearn.preprocessing import scale\n",
    "from sklearn.cluster import KMeans\n",
    "from sklearn.metrics import davies_bouldin_score\n",
    "from sklearn.metrics import silhouette_score\n",
    "from sklearn.cluster import DBSCAN\n",
    "from sklearn.decomposition import PCA\n",
    "from sklearn.pipeline import make_pipeline\n",
    "import warnings\n",
    "\n",
    "warnings.filterwarnings('ignore')\n",
    "warnings.filterwarnings('ignore', category=DeprecationWarning)"
   ]
  },
  {
   "cell_type": "markdown",
   "id": "479266ff",
   "metadata": {},
   "source": [
    "###  Aprendizaje No Supervisado"
   ]
  },
  {
   "cell_type": "markdown",
   "id": "1bdef49a",
   "metadata": {},
   "source": [
    "### 1) Bases"
   ]
  },
  {
   "cell_type": "markdown",
   "id": "337c21d7",
   "metadata": {},
   "source": [
    "A continuación, se cargan las bases de datos que ya pasaron por el EDA y que están preparadas para ser utilizadas en el modelo"
   ]
  },
  {
   "cell_type": "code",
   "execution_count": 2,
   "id": "6222ba74",
   "metadata": {},
   "outputs": [],
   "source": [
    "personas=pd.read_csv('../datos/personas_para_modelado.csv')"
   ]
  },
  {
   "cell_type": "code",
   "execution_count": 3,
   "id": "0ffa0148",
   "metadata": {},
   "outputs": [],
   "source": [
    "viajes=pd.read_csv('../datos/viajes_para_modelado.csv')"
   ]
  },
  {
   "cell_type": "markdown",
   "id": "3901ff63",
   "metadata": {},
   "source": [
    "###  2) Procesamiento y transformación de datos "
   ]
  },
  {
   "cell_type": "code",
   "execution_count": 4,
   "id": "05361372",
   "metadata": {},
   "outputs": [
    {
     "data": {
      "text/html": [
       "<div>\n",
       "<style scoped>\n",
       "    .dataframe tbody tr th:only-of-type {\n",
       "        vertical-align: middle;\n",
       "    }\n",
       "\n",
       "    .dataframe tbody tr th {\n",
       "        vertical-align: top;\n",
       "    }\n",
       "\n",
       "    .dataframe thead th {\n",
       "        text-align: right;\n",
       "    }\n",
       "</style>\n",
       "<table border=\"1\" class=\"dataframe\">\n",
       "  <thead>\n",
       "    <tr style=\"text-align: right;\">\n",
       "      <th></th>\n",
       "      <th>Unnamed: 0</th>\n",
       "      <th>id_hogar</th>\n",
       "      <th>id_persona</th>\n",
       "      <th>id_viaje</th>\n",
       "      <th>actividad_en_el_origen</th>\n",
       "      <th>actividad_en_el_destino</th>\n",
       "      <th>BH_NBH</th>\n",
       "      <th>motivo</th>\n",
       "      <th>veces_por_semana_viaja</th>\n",
       "      <th>tarifa_combinada</th>\n",
       "      <th>...</th>\n",
       "      <th>hora_final</th>\n",
       "      <th>duracion_minutos</th>\n",
       "      <th>modo_desplazamiento</th>\n",
       "      <th>PONDERA</th>\n",
       "      <th>cantidad_etapas</th>\n",
       "      <th>tipo_viaje</th>\n",
       "      <th>menos_2_cuadras</th>\n",
       "      <th>Inluye_bici</th>\n",
       "      <th>viaja_rmba</th>\n",
       "      <th>distancia_viaje_km</th>\n",
       "    </tr>\n",
       "  </thead>\n",
       "  <tbody>\n",
       "    <tr>\n",
       "      <th>0</th>\n",
       "      <td>0</td>\n",
       "      <td>1</td>\n",
       "      <td>2</td>\n",
       "      <td>1</td>\n",
       "      <td>1</td>\n",
       "      <td>2</td>\n",
       "      <td>BH</td>\n",
       "      <td>2</td>\n",
       "      <td>5</td>\n",
       "      <td>0</td>\n",
       "      <td>...</td>\n",
       "      <td>10.666667</td>\n",
       "      <td>40.0</td>\n",
       "      <td>5</td>\n",
       "      <td>503</td>\n",
       "      <td>1</td>\n",
       "      <td>PBA</td>\n",
       "      <td>0</td>\n",
       "      <td>no</td>\n",
       "      <td>1</td>\n",
       "      <td>4.387573</td>\n",
       "    </tr>\n",
       "    <tr>\n",
       "      <th>1</th>\n",
       "      <td>1</td>\n",
       "      <td>1</td>\n",
       "      <td>2</td>\n",
       "      <td>2</td>\n",
       "      <td>2</td>\n",
       "      <td>1</td>\n",
       "      <td>BH</td>\n",
       "      <td>2</td>\n",
       "      <td>5</td>\n",
       "      <td>0</td>\n",
       "      <td>...</td>\n",
       "      <td>17.666667</td>\n",
       "      <td>40.0</td>\n",
       "      <td>5</td>\n",
       "      <td>503</td>\n",
       "      <td>1</td>\n",
       "      <td>PBA</td>\n",
       "      <td>0</td>\n",
       "      <td>no</td>\n",
       "      <td>1</td>\n",
       "      <td>4.387573</td>\n",
       "    </tr>\n",
       "    <tr>\n",
       "      <th>2</th>\n",
       "      <td>2</td>\n",
       "      <td>2</td>\n",
       "      <td>1</td>\n",
       "      <td>1</td>\n",
       "      <td>1</td>\n",
       "      <td>3</td>\n",
       "      <td>BH</td>\n",
       "      <td>3</td>\n",
       "      <td>88</td>\n",
       "      <td>0</td>\n",
       "      <td>...</td>\n",
       "      <td>10.250000</td>\n",
       "      <td>60.0</td>\n",
       "      <td>4</td>\n",
       "      <td>464</td>\n",
       "      <td>1</td>\n",
       "      <td>PBA</td>\n",
       "      <td>0</td>\n",
       "      <td>no</td>\n",
       "      <td>1</td>\n",
       "      <td>11.885378</td>\n",
       "    </tr>\n",
       "    <tr>\n",
       "      <th>3</th>\n",
       "      <td>3</td>\n",
       "      <td>2</td>\n",
       "      <td>1</td>\n",
       "      <td>2</td>\n",
       "      <td>3</td>\n",
       "      <td>1</td>\n",
       "      <td>BH</td>\n",
       "      <td>3</td>\n",
       "      <td>88</td>\n",
       "      <td>0</td>\n",
       "      <td>...</td>\n",
       "      <td>13.000000</td>\n",
       "      <td>60.0</td>\n",
       "      <td>4</td>\n",
       "      <td>464</td>\n",
       "      <td>1</td>\n",
       "      <td>PBA</td>\n",
       "      <td>0</td>\n",
       "      <td>no</td>\n",
       "      <td>1</td>\n",
       "      <td>11.885378</td>\n",
       "    </tr>\n",
       "    <tr>\n",
       "      <th>4</th>\n",
       "      <td>4</td>\n",
       "      <td>3</td>\n",
       "      <td>1</td>\n",
       "      <td>1</td>\n",
       "      <td>1</td>\n",
       "      <td>7</td>\n",
       "      <td>BH</td>\n",
       "      <td>7</td>\n",
       "      <td>88</td>\n",
       "      <td>0</td>\n",
       "      <td>...</td>\n",
       "      <td>12.000000</td>\n",
       "      <td>180.0</td>\n",
       "      <td>3</td>\n",
       "      <td>462</td>\n",
       "      <td>1</td>\n",
       "      <td>PBA</td>\n",
       "      <td>0</td>\n",
       "      <td>no</td>\n",
       "      <td>1</td>\n",
       "      <td>12.408573</td>\n",
       "    </tr>\n",
       "  </tbody>\n",
       "</table>\n",
       "<p>5 rows × 27 columns</p>\n",
       "</div>"
      ],
      "text/plain": [
       "   Unnamed: 0  id_hogar  id_persona  id_viaje  actividad_en_el_origen  \\\n",
       "0           0         1           2         1                       1   \n",
       "1           1         1           2         2                       2   \n",
       "2           2         2           1         1                       1   \n",
       "3           3         2           1         2                       3   \n",
       "4           4         3           1         1                       1   \n",
       "\n",
       "   actividad_en_el_destino BH_NBH  motivo  veces_por_semana_viaja  \\\n",
       "0                        2     BH       2                       5   \n",
       "1                        1     BH       2                       5   \n",
       "2                        3     BH       3                      88   \n",
       "3                        1     BH       3                      88   \n",
       "4                        7     BH       7                      88   \n",
       "\n",
       "   tarifa_combinada  ...  hora_final  duracion_minutos modo_desplazamiento  \\\n",
       "0                 0  ...   10.666667              40.0                   5   \n",
       "1                 0  ...   17.666667              40.0                   5   \n",
       "2                 0  ...   10.250000              60.0                   4   \n",
       "3                 0  ...   13.000000              60.0                   4   \n",
       "4                 0  ...   12.000000             180.0                   3   \n",
       "\n",
       "  PONDERA  cantidad_etapas  tipo_viaje menos_2_cuadras  Inluye_bici  \\\n",
       "0     503                1         PBA               0           no   \n",
       "1     503                1         PBA               0           no   \n",
       "2     464                1         PBA               0           no   \n",
       "3     464                1         PBA               0           no   \n",
       "4     462                1         PBA               0           no   \n",
       "\n",
       "   viaja_rmba  distancia_viaje_km  \n",
       "0           1            4.387573  \n",
       "1           1            4.387573  \n",
       "2           1           11.885378  \n",
       "3           1           11.885378  \n",
       "4           1           12.408573  \n",
       "\n",
       "[5 rows x 27 columns]"
      ]
     },
     "execution_count": 4,
     "metadata": {},
     "output_type": "execute_result"
    }
   ],
   "source": [
    "#Leemos las primera 5 filas del dataset \"Viajes\"\n",
    "viajes.head()"
   ]
  },
  {
   "cell_type": "code",
   "execution_count": 5,
   "id": "f5e1f43a",
   "metadata": {},
   "outputs": [
    {
     "data": {
      "text/html": [
       "<div>\n",
       "<style scoped>\n",
       "    .dataframe tbody tr th:only-of-type {\n",
       "        vertical-align: middle;\n",
       "    }\n",
       "\n",
       "    .dataframe tbody tr th {\n",
       "        vertical-align: top;\n",
       "    }\n",
       "\n",
       "    .dataframe thead th {\n",
       "        text-align: right;\n",
       "    }\n",
       "</style>\n",
       "<table border=\"1\" class=\"dataframe\">\n",
       "  <thead>\n",
       "    <tr style=\"text-align: right;\">\n",
       "      <th></th>\n",
       "      <th>Unnamed: 0</th>\n",
       "      <th>id_hogar</th>\n",
       "      <th>id_persona</th>\n",
       "      <th>partido</th>\n",
       "      <th>nombre_partido</th>\n",
       "      <th>edad</th>\n",
       "      <th>sexo</th>\n",
       "      <th>relacion_con_jefe_de_hogar</th>\n",
       "      <th>dificultad</th>\n",
       "      <th>cursa_actualmente</th>\n",
       "      <th>...</th>\n",
       "      <th>trabaja_como</th>\n",
       "      <th>forma_aporte</th>\n",
       "      <th>ambito_laboral</th>\n",
       "      <th>ambito_laboral_otro</th>\n",
       "      <th>cobertura</th>\n",
       "      <th>lugar_atencion</th>\n",
       "      <th>licencia_de_conducir</th>\n",
       "      <th>viajo_ayer</th>\n",
       "      <th>motivos_no_viajo_ayer</th>\n",
       "      <th>PONDERA</th>\n",
       "    </tr>\n",
       "  </thead>\n",
       "  <tbody>\n",
       "    <tr>\n",
       "      <th>0</th>\n",
       "      <td>0</td>\n",
       "      <td>1</td>\n",
       "      <td>1</td>\n",
       "      <td>6119</td>\n",
       "      <td>BRANDSEN</td>\n",
       "      <td>59.0</td>\n",
       "      <td>2</td>\n",
       "      <td>1</td>\n",
       "      <td>7</td>\n",
       "      <td>2</td>\n",
       "      <td>...</td>\n",
       "      <td>0</td>\n",
       "      <td>0</td>\n",
       "      <td>0</td>\n",
       "      <td>0</td>\n",
       "      <td>1</td>\n",
       "      <td>1</td>\n",
       "      <td>2</td>\n",
       "      <td>2</td>\n",
       "      <td>1</td>\n",
       "      <td>187</td>\n",
       "    </tr>\n",
       "    <tr>\n",
       "      <th>1</th>\n",
       "      <td>1</td>\n",
       "      <td>1</td>\n",
       "      <td>2</td>\n",
       "      <td>6119</td>\n",
       "      <td>BRANDSEN</td>\n",
       "      <td>64.0</td>\n",
       "      <td>1</td>\n",
       "      <td>2</td>\n",
       "      <td>7</td>\n",
       "      <td>2</td>\n",
       "      <td>...</td>\n",
       "      <td>2</td>\n",
       "      <td>1</td>\n",
       "      <td>1</td>\n",
       "      <td>0</td>\n",
       "      <td>1</td>\n",
       "      <td>1</td>\n",
       "      <td>1</td>\n",
       "      <td>1</td>\n",
       "      <td>0</td>\n",
       "      <td>503</td>\n",
       "    </tr>\n",
       "    <tr>\n",
       "      <th>2</th>\n",
       "      <td>2</td>\n",
       "      <td>1</td>\n",
       "      <td>3</td>\n",
       "      <td>6119</td>\n",
       "      <td>BRANDSEN</td>\n",
       "      <td>82.0</td>\n",
       "      <td>2</td>\n",
       "      <td>4</td>\n",
       "      <td>3</td>\n",
       "      <td>2</td>\n",
       "      <td>...</td>\n",
       "      <td>0</td>\n",
       "      <td>0</td>\n",
       "      <td>0</td>\n",
       "      <td>0</td>\n",
       "      <td>1</td>\n",
       "      <td>1</td>\n",
       "      <td>2</td>\n",
       "      <td>2</td>\n",
       "      <td>1</td>\n",
       "      <td>205</td>\n",
       "    </tr>\n",
       "    <tr>\n",
       "      <th>3</th>\n",
       "      <td>4</td>\n",
       "      <td>2</td>\n",
       "      <td>2</td>\n",
       "      <td>6119</td>\n",
       "      <td>BRANDSEN</td>\n",
       "      <td>7.0</td>\n",
       "      <td>2</td>\n",
       "      <td>3</td>\n",
       "      <td>7</td>\n",
       "      <td>1</td>\n",
       "      <td>...</td>\n",
       "      <td>0</td>\n",
       "      <td>0</td>\n",
       "      <td>0</td>\n",
       "      <td>0</td>\n",
       "      <td>5</td>\n",
       "      <td>1</td>\n",
       "      <td>2</td>\n",
       "      <td>2</td>\n",
       "      <td>1</td>\n",
       "      <td>232</td>\n",
       "    </tr>\n",
       "    <tr>\n",
       "      <th>4</th>\n",
       "      <td>5</td>\n",
       "      <td>2</td>\n",
       "      <td>3</td>\n",
       "      <td>6119</td>\n",
       "      <td>BRANDSEN</td>\n",
       "      <td>5.0</td>\n",
       "      <td>1</td>\n",
       "      <td>3</td>\n",
       "      <td>7</td>\n",
       "      <td>1</td>\n",
       "      <td>...</td>\n",
       "      <td>0</td>\n",
       "      <td>0</td>\n",
       "      <td>0</td>\n",
       "      <td>0</td>\n",
       "      <td>5</td>\n",
       "      <td>1</td>\n",
       "      <td>2</td>\n",
       "      <td>2</td>\n",
       "      <td>1</td>\n",
       "      <td>310</td>\n",
       "    </tr>\n",
       "  </tbody>\n",
       "</table>\n",
       "<p>5 rows × 29 columns</p>\n",
       "</div>"
      ],
      "text/plain": [
       "   Unnamed: 0  id_hogar  id_persona  partido nombre_partido  edad  sexo  \\\n",
       "0           0         1           1     6119       BRANDSEN  59.0     2   \n",
       "1           1         1           2     6119       BRANDSEN  64.0     1   \n",
       "2           2         1           3     6119       BRANDSEN  82.0     2   \n",
       "3           4         2           2     6119       BRANDSEN   7.0     2   \n",
       "4           5         2           3     6119       BRANDSEN   5.0     1   \n",
       "\n",
       "   relacion_con_jefe_de_hogar dificultad  cursa_actualmente  ...  \\\n",
       "0                           1          7                  2  ...   \n",
       "1                           2          7                  2  ...   \n",
       "2                           4          3                  2  ...   \n",
       "3                           3          7                  1  ...   \n",
       "4                           3          7                  1  ...   \n",
       "\n",
       "   trabaja_como  forma_aporte  ambito_laboral  ambito_laboral_otro  cobertura  \\\n",
       "0             0             0               0                    0          1   \n",
       "1             2             1               1                    0          1   \n",
       "2             0             0               0                    0          1   \n",
       "3             0             0               0                    0          5   \n",
       "4             0             0               0                    0          5   \n",
       "\n",
       "   lugar_atencion licencia_de_conducir  viajo_ayer motivos_no_viajo_ayer  \\\n",
       "0               1                    2           2                     1   \n",
       "1               1                    1           1                     0   \n",
       "2               1                    2           2                     1   \n",
       "3               1                    2           2                     1   \n",
       "4               1                    2           2                     1   \n",
       "\n",
       "   PONDERA  \n",
       "0      187  \n",
       "1      503  \n",
       "2      205  \n",
       "3      232  \n",
       "4      310  \n",
       "\n",
       "[5 rows x 29 columns]"
      ]
     },
     "execution_count": 5,
     "metadata": {},
     "output_type": "execute_result"
    }
   ],
   "source": [
    "#Leemos las primera 5 filas del dataset \"Personas\"\n",
    "personas.head()"
   ]
  },
  {
   "cell_type": "code",
   "execution_count": 6,
   "id": "e4fc022d",
   "metadata": {},
   "outputs": [
    {
     "data": {
      "text/plain": [
       "Index(['Unnamed: 0', 'id_hogar', 'id_persona', 'id_viaje',\n",
       "       'actividad_en_el_origen', 'actividad_en_el_destino', 'BH_NBH', 'motivo',\n",
       "       'veces_por_semana_viaja', 'tarifa_combinada', 'jur_origen',\n",
       "       'jur_destino', 'partido_origen_viaje', 'partido_destino_viaje',\n",
       "       'cod_partido_origen', 'cod_partido_destino', 'hora_inicio',\n",
       "       'hora_final', 'duracion_minutos', 'modo_desplazamiento', 'PONDERA',\n",
       "       'cantidad_etapas', 'tipo_viaje', 'menos_2_cuadras', 'Inluye_bici',\n",
       "       'viaja_rmba', 'distancia_viaje_km'],\n",
       "      dtype='object')"
      ]
     },
     "execution_count": 6,
     "metadata": {},
     "output_type": "execute_result"
    }
   ],
   "source": [
    "# Visualizamos las columnas del dataset \"Viajes\"\n",
    "viajes.columns"
   ]
  },
  {
   "cell_type": "code",
   "execution_count": 7,
   "id": "3a383486",
   "metadata": {},
   "outputs": [
    {
     "data": {
      "text/plain": [
       "Index(['Unnamed: 0', 'id_hogar', 'id_persona', 'partido', 'nombre_partido',\n",
       "       'edad', 'sexo', 'relacion_con_jefe_de_hogar', 'dificultad',\n",
       "       'cursa_actualmente', 'nivel_cursando', 'ambito_cursando',\n",
       "       'nivel_aprobado', 'Trabaja_Si_No (0=SD)', 'situacion_laboral',\n",
       "       'por_que_no_trabajo', 'por_que_no_trabajo_otro',\n",
       "       'por_que_no_tiene_empleo_remunerado', 'por_que_no_tiene_empleo_otro',\n",
       "       'trabaja_como', 'forma_aporte', 'ambito_laboral', 'ambito_laboral_otro',\n",
       "       'cobertura', 'lugar_atencion', 'licencia_de_conducir', 'viajo_ayer',\n",
       "       'motivos_no_viajo_ayer', 'PONDERA'],\n",
       "      dtype='object')"
      ]
     },
     "execution_count": 7,
     "metadata": {},
     "output_type": "execute_result"
    }
   ],
   "source": [
    "#Visualizamos las columnas del dataset \"Personas\"\n",
    "personas.columns"
   ]
  },
  {
   "cell_type": "code",
   "execution_count": 8,
   "id": "66cbc78c",
   "metadata": {},
   "outputs": [],
   "source": [
    "#Eliminamos todas aquellas columnas del dataset \"Viajes\" que no se requieran en el modelo. \n",
    "viajes.drop(labels=['Unnamed: 0', 'id_viaje',\n",
    "       'actividad_en_el_origen', 'actividad_en_el_destino', 'BH_NBH', 'motivo', 'cantidad_etapas',\n",
    "       'veces_por_semana_viaja', 'tarifa_combinada', 'jur_origen',\n",
    "       'jur_destino', 'partido_origen_viaje', 'partido_destino_viaje',\n",
    "       'cod_partido_origen', 'cod_partido_destino', 'modo_desplazamiento', 'hora_inicio',\n",
    "       'hora_final', 'PONDERA',\n",
    "        'tipo_viaje', 'menos_2_cuadras', 'Inluye_bici',\n",
    "       'viaja_rmba'], axis=1, inplace=True ) #Saqué el \"modo_des\" porque da error\n"
   ]
  },
  {
   "cell_type": "code",
   "execution_count": 9,
   "id": "7b1ebeca",
   "metadata": {},
   "outputs": [],
   "source": [
    "#Eliminamos todas aquellas columnas del dataset \"Personas\" que no se requieran en el modelo. \n",
    "personas.drop(labels=['Unnamed: 0', 'partido', 'nombre_partido',\n",
    "        'relacion_con_jefe_de_hogar', 'dificultad',\n",
    "       'cursa_actualmente', 'nivel_cursando', 'ambito_cursando',\n",
    "       'nivel_aprobado', 'Trabaja_Si_No (0=SD)', 'situacion_laboral',\n",
    "       'por_que_no_trabajo', 'por_que_no_trabajo_otro',\n",
    "       'por_que_no_tiene_empleo_remunerado', 'por_que_no_tiene_empleo_otro',\n",
    "       'trabaja_como', 'forma_aporte', 'ambito_laboral', 'ambito_laboral_otro',\n",
    "       'cobertura', 'lugar_atencion', 'licencia_de_conducir', 'viajo_ayer',\n",
    "       'motivos_no_viajo_ayer', 'PONDERA'], axis=1, inplace=True)\n"
   ]
  },
  {
   "cell_type": "markdown",
   "id": "d4c2ab81",
   "metadata": {},
   "source": [
    "A continuación se unirán los datasets \"Personas\" con \"Viajes\", de manera que el Modelo pueda considerar algunas características de las personas que viajan."
   ]
  },
  {
   "cell_type": "code",
   "execution_count": 10,
   "id": "70d12c06",
   "metadata": {},
   "outputs": [],
   "source": [
    "mov_tp = pd.merge(viajes, personas, on=['id_persona', 'id_hogar'], how='inner')"
   ]
  },
  {
   "cell_type": "code",
   "execution_count": 11,
   "id": "bfdd0c77",
   "metadata": {
    "scrolled": true
   },
   "outputs": [
    {
     "data": {
      "text/plain": [
       "id_hogar              0\n",
       "id_persona            0\n",
       "duracion_minutos      0\n",
       "distancia_viaje_km    0\n",
       "edad                  0\n",
       "sexo                  0\n",
       "dtype: int64"
      ]
     },
     "execution_count": 11,
     "metadata": {},
     "output_type": "execute_result"
    }
   ],
   "source": [
    "#Verificamos la presencia de datos nulos en el nuevo dataset originado.\n",
    "mov_tp.isna().sum()"
   ]
  },
  {
   "cell_type": "code",
   "execution_count": 12,
   "id": "476d285c",
   "metadata": {},
   "outputs": [],
   "source": [
    "#Eliminamos las columnas del dataset \"mov_tp\" que nos sirvieron para la unión de las bases originales y que no se requieren en el modelo. \n",
    "mov_tp.drop(labels=['id_hogar', 'id_persona'], axis=1, inplace=True )"
   ]
  },
  {
   "cell_type": "code",
   "execution_count": 13,
   "id": "f5f016be",
   "metadata": {},
   "outputs": [
    {
     "data": {
      "text/plain": [
       "Index(['duracion_minutos', 'distancia_viaje_km', 'edad', 'sexo'], dtype='object')"
      ]
     },
     "execution_count": 13,
     "metadata": {},
     "output_type": "execute_result"
    }
   ],
   "source": [
    "#Visualizamos las columnas del dataset \"mov_tp\".\n",
    "mov_tp.columns"
   ]
  },
  {
   "cell_type": "markdown",
   "id": "bd681231",
   "metadata": {},
   "source": [
    "###  2) Modelos No Supervisado"
   ]
  },
  {
   "cell_type": "markdown",
   "id": "9f77b63a",
   "metadata": {},
   "source": [
    "Seleccionamos variables para los modelos: en este caso elegimos duracion_minutos, distancia_viaje_km, edad y sexo, para observar si existe un agrupamiento en función de ellas."
   ]
  },
  {
   "cell_type": "code",
   "execution_count": 14,
   "id": "75247595",
   "metadata": {},
   "outputs": [],
   "source": [
    "#Escalamos todas las variables del dataset \"mov_tp\" y las almacenamos en la una nueva variable denominada \"X\".\n",
    "scaler = StandardScaler()\n",
    "scaler.fit(mov_tp)\n",
    "X = scaler.transform(mov_tp)"
   ]
  },
  {
   "cell_type": "code",
   "execution_count": 15,
   "id": "4996efe7",
   "metadata": {},
   "outputs": [
    {
     "data": {
      "text/plain": [
       "array([[ 0.31567344, -0.07472981,  1.2446169 , -1.08573059],\n",
       "       [ 0.31567344, -0.07472981,  1.2446169 , -1.08573059],\n",
       "       [ 4.98947849,  0.78955417,  1.0113407 , -1.08573059],\n",
       "       ...,\n",
       "       [-0.71924054,  2.14550372, -0.20169554,  0.9210388 ],\n",
       "       [-0.71924054,  2.14551647, -0.20169554,  0.9210388 ],\n",
       "       [-0.68585621,  2.14550372, -0.20169554,  0.9210388 ]])"
      ]
     },
     "execution_count": 15,
     "metadata": {},
     "output_type": "execute_result"
    }
   ],
   "source": [
    "#Visualizamos los un valores almacenados en \"X\".\n",
    "X"
   ]
  },
  {
   "cell_type": "markdown",
   "id": "9a875484",
   "metadata": {},
   "source": [
    "Aplicaremos \"El Método del Codo\" para visualizar la variación total explicada (inercia) por el modelo en relación con el número de clústers. Posteriormente, seleccionaremos el número de clústers donde se observa una marcada disminución en la variación, indicando un punto donde la adición de más clústers no proporciona un beneficio significativo en la explicación de la variabilidad en los datos."
   ]
  },
  {
   "cell_type": "code",
   "execution_count": 16,
   "id": "8efba17d",
   "metadata": {},
   "outputs": [],
   "source": [
    "# Calculamos los distintos valores de inercia para clusters que van de 1 a 14 y luego graficamos los resultados.\n",
    "K = np.arange(1, 15)\n",
    "lista_inercias = []\n",
    "\n",
    "for i in K:\n",
    "  kmeans = KMeans(n_clusters=i, random_state=0)\n",
    "  kmeans.fit(X)\n",
    "  lista_inercias.append(kmeans.inertia_)"
   ]
  },
  {
   "cell_type": "code",
   "execution_count": 17,
   "id": "4e824b85",
   "metadata": {},
   "outputs": [
    {
     "data": {
      "image/png": "[encoded data removed]",
      "text/plain": [
       "<Figure size 700x400 with 1 Axes>"
      ]
     },
     "metadata": {},
     "output_type": "display_data"
    }
   ],
   "source": [
    "plt.figure(figsize = (7,4))\n",
    "plt.plot(K,lista_inercias)\n",
    "plt.scatter(K,lista_inercias,c='r')\n",
    "plt.xlabel('Cantidad de Clústers K')\n",
    "plt.ylabel('Inercia media')\n",
    "plt.title('Método del Codo')\n",
    "plt.show()"
   ]
  },
  {
   "cell_type": "markdown",
   "id": "cb1adfb0",
   "metadata": {},
   "source": [
    "De este gráfico observamos que el número de clusters donde la disminución en la variación se empieza a aplanar, es decir, el \"codo\", es 8 clusters."
   ]
  },
  {
   "cell_type": "code",
   "execution_count": 18,
   "id": "c49d5d8e",
   "metadata": {},
   "outputs": [],
   "source": [
    "# Calculamos los distintos coeficientes de silhouette para cada clusters (1 al 14) y luego graficamos los resultados\n",
    "K = np.arange(2,15)\n",
    "lista_silueta = []\n",
    "for i in K:\n",
    "  kmeans_silueta = KMeans(n_clusters = i, random_state = 0)\n",
    "  kmeans_silueta.fit(X)\n",
    "  lista_silueta.append(silhouette_score(X, kmeans_silueta.labels_))"
   ]
  },
  {
   "cell_type": "code",
   "execution_count": 19,
   "id": "811bdf24",
   "metadata": {},
   "outputs": [
    {
     "data": {
      "image/png": "[encoded data removed]",
      "text/plain": [
       "<Figure size 700x400 with 1 Axes>"
      ]
     },
     "metadata": {},
     "output_type": "display_data"
    }
   ],
   "source": [
    "plt.figure(figsize = (7,4))\n",
    "plt.plot(K,lista_silueta)\n",
    "plt.scatter(K,lista_silueta,c='r')\n",
    "plt.xlabel('Cantidad de Clusters K')\n",
    "plt.ylabel('Silhouette')\n",
    "plt.title('Método de la silueta')\n",
    "plt.xticks(np.arange(2,15))\n",
    "for x in np.arange(2,15):\n",
    "  plt.axvline(x,0,1,color='green')\n",
    "plt.show()"
   ]
  },
  {
   "cell_type": "markdown",
   "id": "b7feacd7",
   "metadata": {},
   "source": [
    "De este gráfico observamos que el número de clústers donde se obtiene el coefiente más alto es 8, número que se condice con el sugerido por el Método del Codo. "
   ]
  },
  {
   "cell_type": "markdown",
   "id": "cda0fde0-6afa-4314-9732-afed0338ce19",
   "metadata": {},
   "source": [
    "A fin de comprobar si 8 es una cantidad de clústers precisa, aplicamos el Índice de Davies Bouldin para así evaluar la calidad de los clústers considerando tanto la cohesión intra-clúster como la separación inter-clúster. "
   ]
  },
  {
   "cell_type": "code",
   "execution_count": 21,
   "id": "15935dd2-424d-4291-8081-9628745641f6",
   "metadata": {},
   "outputs": [
    {
     "name": "stdout",
     "output_type": "stream",
     "text": [
      "Índice Davies-Bouldin: 0.9682128952327893\n"
     ]
    }
   ],
   "source": [
    "n_clusters = 8\n",
    "kmeans = KMeans(n_clusters=n_clusters, random_state=42)\n",
    "kmeans.fit(X)\n",
    "labels = kmeans.labels_\n",
    "db_index = davies_bouldin_score(X, labels)\n",
    "print(f\"Índice Davies-Bouldin: {db_index}\")"
   ]
  },
  {
   "cell_type": "markdown",
   "id": "82160cc4-52e5-42b9-b8be-47e3aa6e6dec",
   "metadata": {},
   "source": [
    "Un índice Davies-Bouldin de 0.9682128952327893 para 8 clústeres es un valor bastante bajo, lo cual es positivo en términos de calidad de la partición de clústeres. "
   ]
  },
  {
   "cell_type": "code",
   "execution_count": 22,
   "id": "e43c631c",
   "metadata": {},
   "outputs": [],
   "source": [
    "# Modelamos utilizando el Método de KMeans\n",
    "kmeansmodel = KMeans(n_clusters= 8, random_state=0)\n",
    "y_kmeans= kmeansmodel.fit_predict(X)"
   ]
  },
  {
   "cell_type": "code",
   "execution_count": 23,
   "id": "b255b3b4",
   "metadata": {},
   "outputs": [
    {
     "data": {
      "text/plain": [
       "array([0, 1, 2, 3, 4, 5, 6, 7])"
      ]
     },
     "execution_count": 23,
     "metadata": {},
     "output_type": "execute_result"
    }
   ],
   "source": [
    "# Obtenemos las etiquetas para cada clúster.\n",
    "etiquetas_kmeans = kmeansmodel.labels_\n",
    "np.unique(etiquetas_kmeans)"
   ]
  },
  {
   "cell_type": "code",
   "execution_count": 24,
   "id": "0f463ac3",
   "metadata": {},
   "outputs": [
    {
     "name": "stdout",
     "output_type": "stream",
     "text": [
      "[[ 1.27666877  0.54623815  0.11499393  0.9210388 ]\n",
      " [-0.34741146 -0.2904599   1.00549986  0.9210388 ]\n",
      " [-0.38006119 -0.30487038 -0.91485969 -1.08573059]\n",
      " [-0.34482178 -0.23221073  1.013487   -1.08573059]\n",
      " [ 1.15466716  0.79253181  0.04849191 -1.08573059]\n",
      " [-0.40843235 -0.32580908 -0.74052624  0.9210388 ]\n",
      " [ 5.53885558 14.16861335  0.41955581 -0.27598153]\n",
      " [ 2.76765045  3.16807744  0.15850117 -0.30761661]]\n"
     ]
    }
   ],
   "source": [
    "# Calculamos los centros para cada clúster.\n",
    "centros = kmeansmodel.cluster_centers_\n",
    "print(centros)"
   ]
  },
  {
   "cell_type": "markdown",
   "id": "6c92ffcd",
   "metadata": {},
   "source": [
    "Una vez establecidos los clústers, podremos observar la cantidad de puntos asignados a cada clúster."
   ]
  },
  {
   "cell_type": "code",
   "execution_count": 25,
   "id": "d1517e12",
   "metadata": {},
   "outputs": [
    {
     "data": {
      "image/png": "[encoded data removed]",
      "text/plain": [
       "<Figure size 640x480 with 1 Axes>"
      ]
     },
     "metadata": {},
     "output_type": "display_data"
    }
   ],
   "source": [
    "cluster_counts = np.bincount(y_kmeans)\n",
    "cluster_labels = list(range(len(cluster_counts)))\n",
    "colors = ['royalblue', 'forestgreen', 'purple']\n",
    "plt.bar(cluster_labels, cluster_counts, color=colors)\n",
    "plt.xlabel('Grupo')\n",
    "plt.ylabel('Cantidad de Observaciones')\n",
    "plt.show() "
   ]
  },
  {
   "cell_type": "markdown",
   "id": "7917434f",
   "metadata": {},
   "source": [
    "#### Evaluación con Suma de los Cuadrados de las Distancias (SSD)"
   ]
  },
  {
   "cell_type": "code",
   "execution_count": 26,
   "id": "605e8b5f",
   "metadata": {},
   "outputs": [
    {
     "name": "stdout",
     "output_type": "stream",
     "text": [
      "SSD:  53034.48328234633\n"
     ]
    }
   ],
   "source": [
    "# Calcula la SSD\n",
    "SSD = kmeansmodel.inertia_\n",
    "print(\"SSD: \", SSD)"
   ]
  },
  {
   "cell_type": "markdown",
   "id": "511b3a21",
   "metadata": {},
   "source": [
    "Esta métrica mide la distancia entre cada punto y su centroide asignado, y luego suma los cuadrados de estas distancias. La SSD es una medida de cómo de bien los centroides representan los puntos en el dataset, y se espera que disminuya a medida que se ajusta el modelo.\n",
    "- Una SSD baja indica que los puntos dentro de un mismo clúster son muy similares entre sí, lo que sugiere que los clústers son coherentes y bien definidos.\n",
    "Este resultado nos sugiere que los clústers obtenidos por el algoritmo K-means son relativamente coherentes y bien definidos."
   ]
  },
  {
   "cell_type": "markdown",
   "id": "78fd518e",
   "metadata": {},
   "source": [
    "#### Evaluación con Silhouette"
   ]
  },
  {
   "cell_type": "code",
   "execution_count": 27,
   "id": "fafaf303",
   "metadata": {},
   "outputs": [
    {
     "name": "stdout",
     "output_type": "stream",
     "text": [
      "Coeficiente de Silueta para KMeans:  0.4124062445497461\n"
     ]
    }
   ],
   "source": [
    "silhouette_coef = silhouette_score(X, etiquetas_kmeans)\n",
    "print(\"Coeficiente de Silueta para KMeans: \", silhouette_coef)"
   ]
  },
  {
   "cell_type": "markdown",
   "id": "bbad7148",
   "metadata": {},
   "source": [
    "El coeficiente de Silueta de 0.41 sugiere que los clústers tienen una buena separación, ya que el valor está más cerca de 1 que de 0. Esto indica que los puntos están generalmente bien definidos en sus respectivos clústers y no están demasiado cerca de los límites. Por lo tanto, podemos inferir que la asignación de los datos a los clústers proporciona una segmentación coherente y que los clústers están relativamente bien separados."
   ]
  },
  {
   "cell_type": "code",
   "execution_count": 28,
   "id": "5f2363d7",
   "metadata": {},
   "outputs": [],
   "source": [
    "# Transformamos las etiquetas en un data frame y despues las mergeamos al dataset \"mov_tp\". De esta manera podemos visualizar qué cluster fue asignado a cada una de nuestras muestras\n",
    "cluster_df = pd.DataFrame(etiquetas_kmeans, columns=['cluster'])\n",
    "df_merged = pd.merge(mov_tp, cluster_df, right_index=True, left_index=True)"
   ]
  },
  {
   "cell_type": "code",
   "execution_count": 29,
   "id": "14a45885",
   "metadata": {},
   "outputs": [
    {
     "data": {
      "text/html": [
       "<div>\n",
       "<style scoped>\n",
       "    .dataframe tbody tr th:only-of-type {\n",
       "        vertical-align: middle;\n",
       "    }\n",
       "\n",
       "    .dataframe tbody tr th {\n",
       "        vertical-align: top;\n",
       "    }\n",
       "\n",
       "    .dataframe thead th {\n",
       "        text-align: right;\n",
       "    }\n",
       "</style>\n",
       "<table border=\"1\" class=\"dataframe\">\n",
       "  <thead>\n",
       "    <tr style=\"text-align: right;\">\n",
       "      <th></th>\n",
       "      <th>duracion_minutos</th>\n",
       "      <th>distancia_viaje_km</th>\n",
       "      <th>edad</th>\n",
       "      <th>sexo</th>\n",
       "      <th>cluster</th>\n",
       "    </tr>\n",
       "  </thead>\n",
       "  <tbody>\n",
       "    <tr>\n",
       "      <th>0</th>\n",
       "      <td>40.0</td>\n",
       "      <td>4.387573</td>\n",
       "      <td>64.0</td>\n",
       "      <td>1</td>\n",
       "      <td>3</td>\n",
       "    </tr>\n",
       "    <tr>\n",
       "      <th>1</th>\n",
       "      <td>40.0</td>\n",
       "      <td>4.387573</td>\n",
       "      <td>64.0</td>\n",
       "      <td>1</td>\n",
       "      <td>3</td>\n",
       "    </tr>\n",
       "    <tr>\n",
       "      <th>2</th>\n",
       "      <td>180.0</td>\n",
       "      <td>12.408573</td>\n",
       "      <td>59.0</td>\n",
       "      <td>1</td>\n",
       "      <td>7</td>\n",
       "    </tr>\n",
       "    <tr>\n",
       "      <th>3</th>\n",
       "      <td>19.0</td>\n",
       "      <td>12.390517</td>\n",
       "      <td>59.0</td>\n",
       "      <td>1</td>\n",
       "      <td>3</td>\n",
       "    </tr>\n",
       "    <tr>\n",
       "      <th>4</th>\n",
       "      <td>20.0</td>\n",
       "      <td>11.705717</td>\n",
       "      <td>14.0</td>\n",
       "      <td>1</td>\n",
       "      <td>2</td>\n",
       "    </tr>\n",
       "    <tr>\n",
       "      <th>...</th>\n",
       "      <td>...</td>\n",
       "      <td>...</td>\n",
       "      <td>...</td>\n",
       "      <td>...</td>\n",
       "      <td>...</td>\n",
       "    </tr>\n",
       "    <tr>\n",
       "      <th>53609</th>\n",
       "      <td>30.0</td>\n",
       "      <td>22.264433</td>\n",
       "      <td>38.0</td>\n",
       "      <td>1</td>\n",
       "      <td>4</td>\n",
       "    </tr>\n",
       "    <tr>\n",
       "      <th>53610</th>\n",
       "      <td>10.0</td>\n",
       "      <td>24.885109</td>\n",
       "      <td>33.0</td>\n",
       "      <td>2</td>\n",
       "      <td>5</td>\n",
       "    </tr>\n",
       "    <tr>\n",
       "      <th>53611</th>\n",
       "      <td>9.0</td>\n",
       "      <td>24.992483</td>\n",
       "      <td>33.0</td>\n",
       "      <td>2</td>\n",
       "      <td>5</td>\n",
       "    </tr>\n",
       "    <tr>\n",
       "      <th>53612</th>\n",
       "      <td>9.0</td>\n",
       "      <td>24.992601</td>\n",
       "      <td>33.0</td>\n",
       "      <td>2</td>\n",
       "      <td>5</td>\n",
       "    </tr>\n",
       "    <tr>\n",
       "      <th>53613</th>\n",
       "      <td>10.0</td>\n",
       "      <td>24.992483</td>\n",
       "      <td>33.0</td>\n",
       "      <td>2</td>\n",
       "      <td>5</td>\n",
       "    </tr>\n",
       "  </tbody>\n",
       "</table>\n",
       "<p>53614 rows × 5 columns</p>\n",
       "</div>"
      ],
      "text/plain": [
       "       duracion_minutos  distancia_viaje_km  edad  sexo  cluster\n",
       "0                  40.0            4.387573  64.0     1        3\n",
       "1                  40.0            4.387573  64.0     1        3\n",
       "2                 180.0           12.408573  59.0     1        7\n",
       "3                  19.0           12.390517  59.0     1        3\n",
       "4                  20.0           11.705717  14.0     1        2\n",
       "...                 ...                 ...   ...   ...      ...\n",
       "53609              30.0           22.264433  38.0     1        4\n",
       "53610              10.0           24.885109  33.0     2        5\n",
       "53611               9.0           24.992483  33.0     2        5\n",
       "53612               9.0           24.992601  33.0     2        5\n",
       "53613              10.0           24.992483  33.0     2        5\n",
       "\n",
       "[53614 rows x 5 columns]"
      ]
     },
     "execution_count": 29,
     "metadata": {},
     "output_type": "execute_result"
    }
   ],
   "source": [
    "#Visualizamos el dataset mergeado.\n",
    "df_merged"
   ]
  },
  {
   "cell_type": "code",
   "execution_count": 30,
   "id": "06bd987d",
   "metadata": {},
   "outputs": [
    {
     "data": {
      "text/html": [
       "<div>\n",
       "<style scoped>\n",
       "    .dataframe tbody tr th:only-of-type {\n",
       "        vertical-align: middle;\n",
       "    }\n",
       "\n",
       "    .dataframe tbody tr th {\n",
       "        vertical-align: top;\n",
       "    }\n",
       "\n",
       "    .dataframe thead th {\n",
       "        text-align: right;\n",
       "    }\n",
       "</style>\n",
       "<table border=\"1\" class=\"dataframe\">\n",
       "  <thead>\n",
       "    <tr style=\"text-align: right;\">\n",
       "      <th></th>\n",
       "      <th>duracion_minutos</th>\n",
       "      <th>distancia_viaje_km</th>\n",
       "      <th>edad</th>\n",
       "      <th>sexo</th>\n",
       "    </tr>\n",
       "    <tr>\n",
       "      <th>cluster</th>\n",
       "      <th></th>\n",
       "      <th></th>\n",
       "      <th></th>\n",
       "      <th></th>\n",
       "    </tr>\n",
       "  </thead>\n",
       "  <tbody>\n",
       "    <tr>\n",
       "      <th>0</th>\n",
       "      <td>68.823783</td>\n",
       "      <td>10.159334</td>\n",
       "      <td>39.775764</td>\n",
       "      <td>2.000000</td>\n",
       "    </tr>\n",
       "    <tr>\n",
       "      <th>1</th>\n",
       "      <td>20.143541</td>\n",
       "      <td>2.387193</td>\n",
       "      <td>58.871684</td>\n",
       "      <td>2.000000</td>\n",
       "    </tr>\n",
       "    <tr>\n",
       "      <th>2</th>\n",
       "      <td>19.171970</td>\n",
       "      <td>2.254554</td>\n",
       "      <td>17.720252</td>\n",
       "      <td>1.000000</td>\n",
       "    </tr>\n",
       "    <tr>\n",
       "      <th>3</th>\n",
       "      <td>20.224864</td>\n",
       "      <td>2.926189</td>\n",
       "      <td>59.039831</td>\n",
       "      <td>1.000000</td>\n",
       "    </tr>\n",
       "    <tr>\n",
       "      <th>4</th>\n",
       "      <td>65.179574</td>\n",
       "      <td>12.450217</td>\n",
       "      <td>38.373669</td>\n",
       "      <td>1.000000</td>\n",
       "    </tr>\n",
       "    <tr>\n",
       "      <th>5</th>\n",
       "      <td>18.312299</td>\n",
       "      <td>2.057536</td>\n",
       "      <td>21.451364</td>\n",
       "      <td>2.000000</td>\n",
       "    </tr>\n",
       "    <tr>\n",
       "      <th>6</th>\n",
       "      <td>196.456140</td>\n",
       "      <td>136.573128</td>\n",
       "      <td>46.315789</td>\n",
       "      <td>1.403509</td>\n",
       "    </tr>\n",
       "    <tr>\n",
       "      <th>7</th>\n",
       "      <td>113.461340</td>\n",
       "      <td>34.493660</td>\n",
       "      <td>40.741753</td>\n",
       "      <td>1.387113</td>\n",
       "    </tr>\n",
       "  </tbody>\n",
       "</table>\n",
       "</div>"
      ],
      "text/plain": [
       "         duracion_minutos  distancia_viaje_km       edad      sexo\n",
       "cluster                                                           \n",
       "0               68.823783           10.159334  39.775764  2.000000\n",
       "1               20.143541            2.387193  58.871684  2.000000\n",
       "2               19.171970            2.254554  17.720252  1.000000\n",
       "3               20.224864            2.926189  59.039831  1.000000\n",
       "4               65.179574           12.450217  38.373669  1.000000\n",
       "5               18.312299            2.057536  21.451364  2.000000\n",
       "6              196.456140          136.573128  46.315789  1.403509\n",
       "7              113.461340           34.493660  40.741753  1.387113"
      ]
     },
     "execution_count": 30,
     "metadata": {},
     "output_type": "execute_result"
    }
   ],
   "source": [
    "# Calculamos los valores medios para cada uno de los clústers.\n",
    "df_merged.groupby(['cluster'])['duracion_minutos', 'distancia_viaje_km', 'edad', 'sexo'].mean() "
   ]
  },
  {
   "cell_type": "markdown",
   "id": "383f3d1e",
   "metadata": {},
   "source": [
    "A partir de la tabla anterior y los gráficos previamente realizados, se puede ver que se formaron 8 clústers con las siguientes características:\n",
    "\n",
    "Cluster 0: La agrupación contiene únicamente mujerss, con una edad promedio de 40 años que realizan viajes de una distancia promedio de 10 km, con una duración promedio de 69 minutos. \n",
    "\n",
    "Cluster 1: La agrupación contiene únicamente mujeres, con una edad promedio de 59 años que realizan viajes de una distancia promedio de 2 km, con una duración promedio de 20 minutos. \n",
    "\n",
    "Cluster 2: La agrupación contiene únicamente hombres, con una edad promedio de 18 años que realizan viajes de una distancia promedio de 2 km, con una duración promedio de 19 minutos.\n",
    "\n",
    "Cluster 3: La agrupación contiene únicamente hombres, con una edad promedio de 59 años que realizan viajes de una distancia promedio de 3 km, con una duración promedio de 20 minutos. \n",
    "\n",
    "Cluster 4: La agrupación contiene únicamente hombres, con una edad promedio de 39 años que realizan viajes de una distancia promedio de 13 km, con una duración promedio de 66 minutos.\n",
    "\n",
    "Cluster 5: La agrupación contiene únicamente mujeres, con una edad promedio de 21 años que realizan viajes de una distancia promedio de 2 km, con una duración promedio de 18 minutos. \n",
    "\n",
    "Cluster 6: Puede interpretarse como una composición que está más cerca de Hombres que de Mujeres, pero con cierta presencia de ambos, con una edad promedio de 47 años que realizan viajes de una distancia promedio de 136 km, con una duración promedio de 196 minutos. \n",
    "\n",
    "Cluster 7: Con una composición ligeramente más inclinada hacia Hombres que el Clúster 6, con una edad promedio de 41 años, que realizan viajes de una distancia promedio de 34 km y con una duración promedio de 113 minutos."
   ]
  },
  {
   "cell_type": "markdown",
   "id": "c9e8b24b-d45e-498e-9d40-e2033b1a006a",
   "metadata": {},
   "source": [
    "Estas agrupaciones fueron tomadas para explorar hipótesis en los patrones de movilidad de hombres y mujeres y para delinear interpretaciones a cotejar con los Análisis Descriptivos previos y los resultados de los Modelos ejecutados."
   ]
  }
 ],
 "metadata": {
  "colab": {
   "provenance": []
  },
  "kernelspec": {
   "display_name": "Python 3 (ipykernel)",
   "language": "python",
   "name": "python3"
  },
  "language_info": {
   "codemirror_mode": {
    "name": "ipython",
    "version": 3
   },
   "file_extension": ".py",
   "mimetype": "text/x-python",
   "name": "python",
   "nbconvert_exporter": "python",
   "pygments_lexer": "ipython3",
   "version": "3.11.4"
  }
 },
 "nbformat": 4,
 "nbformat_minor": 5
}
