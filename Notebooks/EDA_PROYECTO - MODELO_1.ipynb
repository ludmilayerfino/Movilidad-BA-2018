{
 "cells": [
  {
   "cell_type": "markdown",
   "id": "bf946739",
   "metadata": {},
   "source": [
    "## INGENIAS - Grupo 6. EDA de Tablas de Proyecto"
   ]
  },
  {
   "cell_type": "markdown",
   "id": "1ebef216",
   "metadata": {},
   "source": [
    "## Carga de datos"
   ]
  },
  {
   "cell_type": "code",
   "execution_count": 1,
   "id": "8e33b7a8",
   "metadata": {},
   "outputs": [],
   "source": [
    "#Importamos librerías con las que se van a trabajar\n",
    "import pandas as pd\n",
    "import numpy as np\n",
    "import matplotlib.pyplot as plt\n",
    "import seaborn as sns\n",
    "from scipy import stats\n",
    "import sklearn"
   ]
  },
  {
   "cell_type": "markdown",
   "id": "8c1d2549",
   "metadata": {},
   "source": [
    "###  Aprendizaje Supervisado  - MODELO 1"
   ]
  },
  {
   "cell_type": "markdown",
   "id": "0e0be6ae",
   "metadata": {},
   "source": [
    "### 1) Clasificación "
   ]
  },
  {
   "cell_type": "code",
   "execution_count": 2,
   "id": "ecb1a394",
   "metadata": {},
   "outputs": [],
   "source": [
    "personas=pd.read_csv('../datos/personas_l.csv') "
   ]
  },
  {
   "cell_type": "code",
   "execution_count": 3,
   "id": "2ba18163",
   "metadata": {
    "scrolled": true
   },
   "outputs": [
    {
     "name": "stderr",
     "output_type": "stream",
     "text": [
      "C:\\Users\\Ludmila\\AppData\\Local\\Temp\\ipykernel_6632\\1770654665.py:1: DtypeWarning: Columns (16) have mixed types. Specify dtype option on import or set low_memory=False.\n",
      "  viajes=pd.read_csv('../datos/viajes_l.csv')\n"
     ]
    }
   ],
   "source": [
    "viajes=pd.read_csv('../datos/viajes_l.csv')"
   ]
  },
  {
   "cell_type": "code",
   "execution_count": 4,
   "id": "891b1a2a",
   "metadata": {},
   "outputs": [],
   "source": [
    "# Función auxiliar Feature Importance\n",
    "def feature_importance(model, feature_list):\n",
    "    \"\"\"\n",
    "    Function that gets and plots the feature importance\n",
    "    for the given model\n",
    "    :param model: the model to evaluaate\n",
    "    :param feature_list: a list of features contained in the model\n",
    "\n",
    "    :returns a plot with feature importance\n",
    "    \"\"\"\n",
    "    importances = list(model.feature_importances_)\n",
    "    feature_importances = [(feature, round(importance, 2)) for feature, importance in zip(feature_list, importances)]\n",
    "    feature_importances = sorted(feature_importances, key = lambda x: x[1], reverse = True)\n",
    "    [print('Variable: {} Importance: {}'.format(*pair)) for pair in feature_importances];\n",
    "    colors = plt.cm.rainbow(np.linspace(0, 1, len(feature_list))) \n",
    "    characteristics = [x[0] for x in feature_importances]\n",
    "    importances_plot = [x[1] for x in feature_importances]\n",
    "    plt.bar(characteristics, importances_plot, color=colors)\n",
    "    plt.xticks(list(range(len(characteristics))), characteristics, rotation = 90)\n",
    "    plt.gca().spines['top'].set_visible(False)\n",
    "    plt.gca().spines['bottom'].set_visible(False)\n",
    "    plt.gca().spines['left'].set_visible(False)\n",
    "    plt.gca().spines['right'].set_visible(False)\n",
    "    plt.gcf().subplots_adjust(bottom=0.3);"
   ]
  },
  {
   "cell_type": "markdown",
   "id": "3901ff63",
   "metadata": {},
   "source": [
    "### Procesamiento y transformación de datos"
   ]
  },
  {
   "cell_type": "markdown",
   "id": "bb1cac67",
   "metadata": {},
   "source": [
    "Transformamos la variable `motivo` utilizando el metodo apply: Assignamos 0 a motivos de viaje relacionados al trabajo o estudio, y 1 a otros motivos."
   ]
  },
  {
   "cell_type": "code",
   "execution_count": 5,
   "id": "20c3f626",
   "metadata": {},
   "outputs": [],
   "source": [
    "categorias_a_asignar_0 = [2,3,4,5,14]"
   ]
  },
  {
   "cell_type": "code",
   "execution_count": 6,
   "id": "0ca6afc1",
   "metadata": {},
   "outputs": [],
   "source": [
    "viajes['motivo'] = viajes['motivo'].apply(lambda x: 0 if x in categorias_a_asignar_0 else 1)"
   ]
  },
  {
   "cell_type": "code",
   "execution_count": 7,
   "id": "05361372",
   "metadata": {},
   "outputs": [
    {
     "data": {
      "text/html": [
       "<div>\n",
       "<style scoped>\n",
       "    .dataframe tbody tr th:only-of-type {\n",
       "        vertical-align: middle;\n",
       "    }\n",
       "\n",
       "    .dataframe tbody tr th {\n",
       "        vertical-align: top;\n",
       "    }\n",
       "\n",
       "    .dataframe thead th {\n",
       "        text-align: right;\n",
       "    }\n",
       "</style>\n",
       "<table border=\"1\" class=\"dataframe\">\n",
       "  <thead>\n",
       "    <tr style=\"text-align: right;\">\n",
       "      <th></th>\n",
       "      <th>Unnamed: 0</th>\n",
       "      <th>id_hogar</th>\n",
       "      <th>id_persona</th>\n",
       "      <th>id_viaje</th>\n",
       "      <th>actividad_en_el_origen</th>\n",
       "      <th>actividad_en_el_destino</th>\n",
       "      <th>BH_NBH</th>\n",
       "      <th>motivo</th>\n",
       "      <th>veces_por_semana_viaja</th>\n",
       "      <th>tarifa_combinada</th>\n",
       "      <th>...</th>\n",
       "      <th>hora_final</th>\n",
       "      <th>duracion_minutos</th>\n",
       "      <th>modo_des</th>\n",
       "      <th>PONDERA</th>\n",
       "      <th>cantidad_etapas</th>\n",
       "      <th>tipo_viaje</th>\n",
       "      <th>menos_2_cuadras</th>\n",
       "      <th>Inluye_bici</th>\n",
       "      <th>viaja_rmba</th>\n",
       "      <th>distancia_viaje_km</th>\n",
       "    </tr>\n",
       "  </thead>\n",
       "  <tbody>\n",
       "    <tr>\n",
       "      <th>0</th>\n",
       "      <td>0</td>\n",
       "      <td>1</td>\n",
       "      <td>2</td>\n",
       "      <td>1</td>\n",
       "      <td>1</td>\n",
       "      <td>2</td>\n",
       "      <td>BH</td>\n",
       "      <td>0</td>\n",
       "      <td>5</td>\n",
       "      <td>0</td>\n",
       "      <td>...</td>\n",
       "      <td>10.666667</td>\n",
       "      <td>40.0</td>\n",
       "      <td>5</td>\n",
       "      <td>503</td>\n",
       "      <td>1</td>\n",
       "      <td>PBA</td>\n",
       "      <td>0</td>\n",
       "      <td>no</td>\n",
       "      <td>1</td>\n",
       "      <td>0.011419</td>\n",
       "    </tr>\n",
       "    <tr>\n",
       "      <th>1</th>\n",
       "      <td>1</td>\n",
       "      <td>1</td>\n",
       "      <td>2</td>\n",
       "      <td>2</td>\n",
       "      <td>2</td>\n",
       "      <td>1</td>\n",
       "      <td>BH</td>\n",
       "      <td>0</td>\n",
       "      <td>5</td>\n",
       "      <td>0</td>\n",
       "      <td>...</td>\n",
       "      <td>17.666667</td>\n",
       "      <td>40.0</td>\n",
       "      <td>5</td>\n",
       "      <td>503</td>\n",
       "      <td>1</td>\n",
       "      <td>PBA</td>\n",
       "      <td>0</td>\n",
       "      <td>no</td>\n",
       "      <td>1</td>\n",
       "      <td>0.011419</td>\n",
       "    </tr>\n",
       "    <tr>\n",
       "      <th>2</th>\n",
       "      <td>2</td>\n",
       "      <td>2</td>\n",
       "      <td>1</td>\n",
       "      <td>1</td>\n",
       "      <td>1</td>\n",
       "      <td>3</td>\n",
       "      <td>BH</td>\n",
       "      <td>0</td>\n",
       "      <td>88</td>\n",
       "      <td>0</td>\n",
       "      <td>...</td>\n",
       "      <td>10.250000</td>\n",
       "      <td>60.0</td>\n",
       "      <td>4</td>\n",
       "      <td>464</td>\n",
       "      <td>1</td>\n",
       "      <td>PBA</td>\n",
       "      <td>0</td>\n",
       "      <td>no</td>\n",
       "      <td>1</td>\n",
       "      <td>0.030933</td>\n",
       "    </tr>\n",
       "    <tr>\n",
       "      <th>3</th>\n",
       "      <td>3</td>\n",
       "      <td>2</td>\n",
       "      <td>1</td>\n",
       "      <td>2</td>\n",
       "      <td>3</td>\n",
       "      <td>1</td>\n",
       "      <td>BH</td>\n",
       "      <td>0</td>\n",
       "      <td>88</td>\n",
       "      <td>0</td>\n",
       "      <td>...</td>\n",
       "      <td>13.000000</td>\n",
       "      <td>60.0</td>\n",
       "      <td>4</td>\n",
       "      <td>464</td>\n",
       "      <td>1</td>\n",
       "      <td>PBA</td>\n",
       "      <td>0</td>\n",
       "      <td>no</td>\n",
       "      <td>1</td>\n",
       "      <td>0.030933</td>\n",
       "    </tr>\n",
       "    <tr>\n",
       "      <th>4</th>\n",
       "      <td>4</td>\n",
       "      <td>3</td>\n",
       "      <td>1</td>\n",
       "      <td>1</td>\n",
       "      <td>1</td>\n",
       "      <td>7</td>\n",
       "      <td>BH</td>\n",
       "      <td>1</td>\n",
       "      <td>88</td>\n",
       "      <td>0</td>\n",
       "      <td>...</td>\n",
       "      <td>12.000000</td>\n",
       "      <td>180.0</td>\n",
       "      <td>3</td>\n",
       "      <td>462</td>\n",
       "      <td>1</td>\n",
       "      <td>PBA</td>\n",
       "      <td>0</td>\n",
       "      <td>no</td>\n",
       "      <td>1</td>\n",
       "      <td>0.032295</td>\n",
       "    </tr>\n",
       "  </tbody>\n",
       "</table>\n",
       "<p>5 rows × 27 columns</p>\n",
       "</div>"
      ],
      "text/plain": [
       "   Unnamed: 0  id_hogar  id_persona  id_viaje  actividad_en_el_origen  \\\n",
       "0           0         1           2         1                       1   \n",
       "1           1         1           2         2                       2   \n",
       "2           2         2           1         1                       1   \n",
       "3           3         2           1         2                       3   \n",
       "4           4         3           1         1                       1   \n",
       "\n",
       "   actividad_en_el_destino BH_NBH  motivo  veces_por_semana_viaja  \\\n",
       "0                        2     BH       0                       5   \n",
       "1                        1     BH       0                       5   \n",
       "2                        3     BH       0                      88   \n",
       "3                        1     BH       0                      88   \n",
       "4                        7     BH       1                      88   \n",
       "\n",
       "   tarifa_combinada  ...  hora_final  duracion_minutos modo_des PONDERA  \\\n",
       "0                 0  ...   10.666667              40.0        5     503   \n",
       "1                 0  ...   17.666667              40.0        5     503   \n",
       "2                 0  ...   10.250000              60.0        4     464   \n",
       "3                 0  ...   13.000000              60.0        4     464   \n",
       "4                 0  ...   12.000000             180.0        3     462   \n",
       "\n",
       "   cantidad_etapas  tipo_viaje menos_2_cuadras  Inluye_bici  viaja_rmba  \\\n",
       "0                1         PBA               0           no           1   \n",
       "1                1         PBA               0           no           1   \n",
       "2                1         PBA               0           no           1   \n",
       "3                1         PBA               0           no           1   \n",
       "4                1         PBA               0           no           1   \n",
       "\n",
       "   distancia_viaje_km  \n",
       "0            0.011419  \n",
       "1            0.011419  \n",
       "2            0.030933  \n",
       "3            0.030933  \n",
       "4            0.032295  \n",
       "\n",
       "[5 rows x 27 columns]"
      ]
     },
     "execution_count": 7,
     "metadata": {},
     "output_type": "execute_result"
    }
   ],
   "source": [
    "viajes.head()"
   ]
  },
  {
   "cell_type": "markdown",
   "id": "1462efc8",
   "metadata": {},
   "source": [
    "Para las variables `partido_origen_viaje`, `tipo_viaje`y `partido-origen_destino`, utilizaremos `LabelEncoder`, ya que si bien no tienen un orden inherente utilizando `.get_dummies` utilizarimos demasiado espacio en la memoria."
   ]
  },
  {
   "cell_type": "code",
   "execution_count": 8,
   "id": "d22bcfed",
   "metadata": {},
   "outputs": [],
   "source": [
    "from sklearn.preprocessing import LabelEncoder"
   ]
  },
  {
   "cell_type": "code",
   "execution_count": 9,
   "id": "13fdf97b",
   "metadata": {},
   "outputs": [],
   "source": [
    "origen_encoder = LabelEncoder()"
   ]
  },
  {
   "cell_type": "code",
   "execution_count": 10,
   "id": "c47261fe",
   "metadata": {},
   "outputs": [
    {
     "name": "stderr",
     "output_type": "stream",
     "text": [
      "C:\\Users\\Ludmila\\AppData\\Local\\Temp\\ipykernel_6632\\3173553331.py:1: DeprecationWarning: In a future version, `df.iloc[:, i] = newvals` will attempt to set the values inplace instead of always setting a new array. To retain the old behavior, use either `df[df.columns[i]] = newvals` or, if columns are non-unique, `df.isetitem(i, newvals)`\n",
      "  viajes.loc[:, 'partido_origen_viaje'] = origen_encoder.fit_transform(viajes['partido_origen_viaje'])\n"
     ]
    }
   ],
   "source": [
    "viajes.loc[:, 'partido_origen_viaje'] = origen_encoder.fit_transform(viajes['partido_origen_viaje'])"
   ]
  },
  {
   "cell_type": "code",
   "execution_count": 11,
   "id": "95bb26c3",
   "metadata": {},
   "outputs": [],
   "source": [
    "destino_encoder = LabelEncoder()"
   ]
  },
  {
   "cell_type": "code",
   "execution_count": 12,
   "id": "1d3afd48",
   "metadata": {},
   "outputs": [
    {
     "name": "stderr",
     "output_type": "stream",
     "text": [
      "C:\\Users\\Ludmila\\AppData\\Local\\Temp\\ipykernel_6632\\3893151721.py:1: DeprecationWarning: In a future version, `df.iloc[:, i] = newvals` will attempt to set the values inplace instead of always setting a new array. To retain the old behavior, use either `df[df.columns[i]] = newvals` or, if columns are non-unique, `df.isetitem(i, newvals)`\n",
      "  viajes.loc[:, 'partido_destino_viaje'] = destino_encoder.fit_transform(viajes['partido_destino_viaje'])\n"
     ]
    }
   ],
   "source": [
    "viajes.loc[:, 'partido_destino_viaje'] = destino_encoder.fit_transform(viajes['partido_destino_viaje'])"
   ]
  },
  {
   "cell_type": "code",
   "execution_count": 13,
   "id": "d14015d3",
   "metadata": {},
   "outputs": [],
   "source": [
    "tpoviaj_encoder = LabelEncoder()"
   ]
  },
  {
   "cell_type": "code",
   "execution_count": 14,
   "id": "3f48bd51",
   "metadata": {},
   "outputs": [
    {
     "name": "stderr",
     "output_type": "stream",
     "text": [
      "C:\\Users\\Ludmila\\AppData\\Local\\Temp\\ipykernel_6632\\1144690609.py:1: DeprecationWarning: In a future version, `df.iloc[:, i] = newvals` will attempt to set the values inplace instead of always setting a new array. To retain the old behavior, use either `df[df.columns[i]] = newvals` or, if columns are non-unique, `df.isetitem(i, newvals)`\n",
      "  viajes.loc[:, 'tipo_viaje'] = tpoviaj_encoder.fit_transform(viajes['tipo_viaje'])\n"
     ]
    }
   ],
   "source": [
    "viajes.loc[:, 'tipo_viaje'] = tpoviaj_encoder.fit_transform(viajes['tipo_viaje'])"
   ]
  },
  {
   "cell_type": "markdown",
   "id": "d4c2ab81",
   "metadata": {},
   "source": [
    "A continuación se unirán las Bases de Datos \"Personas\" con \"Viajes\", de manera que el modelo pueda considerar algunas características de las personas que viajan. Dado que los mismos son muy grandes y no hay espacio suficiente, eliminaremos algunas columnas que no se incluirán en el modelo."
   ]
  },
  {
   "cell_type": "code",
   "execution_count": 15,
   "id": "7b1ebeca",
   "metadata": {},
   "outputs": [],
   "source": [
    "personas.drop(labels=['partido', 'cursa_actualmente','nombre_partido', 'relacion_con_jefe_de_hogar', 'dificultad', 'nivel_cursando', 'Trabaja_Si_No (0=SD)', 'situacion_laboral', 'por_que_no_trabajo', 'por_que_no_trabajo_otro','por_que_no_tiene_empleo_remunerado','por_que_no_tiene_empleo_otro', 'trabaja_como', 'forma_aporte', 'ambito_laboral','ambito_laboral_otro', 'cobertura', 'lugar_atencion', 'lugar_atencion', 'viajo_ayer','motivos_no_viajo_ayer','PONDERA'], axis=1, inplace=True)\n"
   ]
  },
  {
   "cell_type": "code",
   "execution_count": 16,
   "id": "e4fc022d",
   "metadata": {},
   "outputs": [
    {
     "data": {
      "text/plain": [
       "Index(['Unnamed: 0', 'id_hogar', 'id_persona', 'id_viaje',\n",
       "       'actividad_en_el_origen', 'actividad_en_el_destino', 'BH_NBH', 'motivo',\n",
       "       'veces_por_semana_viaja', 'tarifa_combinada', 'jur_origen',\n",
       "       'jur_destino', 'partido_origen_viaje', 'partido_destino_viaje',\n",
       "       'cod_partido_origen', 'cod_partido_destino', 'hora_inicio',\n",
       "       'hora_final', 'duracion_minutos', 'modo_des', 'PONDERA',\n",
       "       'cantidad_etapas', 'tipo_viaje', 'menos_2_cuadras', 'Inluye_bici',\n",
       "       'viaja_rmba', 'distancia_viaje_km'],\n",
       "      dtype='object')"
      ]
     },
     "execution_count": 16,
     "metadata": {},
     "output_type": "execute_result"
    }
   ],
   "source": [
    "viajes.columns"
   ]
  },
  {
   "cell_type": "code",
   "execution_count": 17,
   "id": "66cbc78c",
   "metadata": {},
   "outputs": [],
   "source": [
    "viajes.drop(labels=['id_viaje','actividad_en_el_origen', 'actividad_en_el_destino', 'BH_NBH','tarifa_combinada', 'jur_origen', 'jur_destino','cod_partido_origen', 'cod_partido_destino',\n",
    "       'hora_inicio', 'hora_final', 'PONDERA', 'menos_2_cuadras', 'Inluye_bici',\n",
    "       'viaja_rmba'], axis=1, inplace=True )"
   ]
  },
  {
   "cell_type": "code",
   "execution_count": 18,
   "id": "70d12c06",
   "metadata": {},
   "outputs": [],
   "source": [
    "mov_mot = pd.merge(viajes, personas, on=['id_persona', 'id_hogar'], how='inner')"
   ]
  },
  {
   "cell_type": "code",
   "execution_count": 19,
   "id": "bfdd0c77",
   "metadata": {},
   "outputs": [
    {
     "data": {
      "text/plain": [
       "Unnamed: 0_x              0\n",
       "id_hogar                  0\n",
       "id_persona                0\n",
       "motivo                    0\n",
       "veces_por_semana_viaja    0\n",
       "partido_origen_viaje      0\n",
       "partido_destino_viaje     0\n",
       "duracion_minutos          0\n",
       "modo_des                  0\n",
       "cantidad_etapas           0\n",
       "tipo_viaje                0\n",
       "distancia_viaje_km        0\n",
       "Unnamed: 0_y              0\n",
       "edad                      0\n",
       "sexo                      0\n",
       "ambito_cursando           0\n",
       "nivel_aprobado            0\n",
       "licencia_de_conducir      0\n",
       "dtype: int64"
      ]
     },
     "execution_count": 19,
     "metadata": {},
     "output_type": "execute_result"
    }
   ],
   "source": [
    "mov_mot.isna().sum()"
   ]
  },
  {
   "cell_type": "code",
   "execution_count": 65,
   "id": "6e4f7c28",
   "metadata": {},
   "outputs": [
    {
     "data": {
      "text/html": [
       "<div>\n",
       "<style scoped>\n",
       "    .dataframe tbody tr th:only-of-type {\n",
       "        vertical-align: middle;\n",
       "    }\n",
       "\n",
       "    .dataframe tbody tr th {\n",
       "        vertical-align: top;\n",
       "    }\n",
       "\n",
       "    .dataframe thead th {\n",
       "        text-align: right;\n",
       "    }\n",
       "</style>\n",
       "<table border=\"1\" class=\"dataframe\">\n",
       "  <thead>\n",
       "    <tr style=\"text-align: right;\">\n",
       "      <th></th>\n",
       "      <th>Unnamed: 0_x</th>\n",
       "      <th>id_hogar</th>\n",
       "      <th>id_persona</th>\n",
       "      <th>motivo</th>\n",
       "      <th>veces_por_semana_viaja</th>\n",
       "      <th>partido_origen_viaje</th>\n",
       "      <th>partido_destino_viaje</th>\n",
       "      <th>duracion_minutos</th>\n",
       "      <th>modo_des</th>\n",
       "      <th>cantidad_etapas</th>\n",
       "      <th>tipo_viaje</th>\n",
       "      <th>distancia_viaje_km</th>\n",
       "      <th>Unnamed: 0_y</th>\n",
       "      <th>edad</th>\n",
       "      <th>sexo</th>\n",
       "      <th>ambito_cursando</th>\n",
       "      <th>nivel_aprobado</th>\n",
       "      <th>licencia_de_conducir</th>\n",
       "    </tr>\n",
       "  </thead>\n",
       "  <tbody>\n",
       "    <tr>\n",
       "      <th>0</th>\n",
       "      <td>0</td>\n",
       "      <td>1</td>\n",
       "      <td>2</td>\n",
       "      <td>0</td>\n",
       "      <td>5</td>\n",
       "      <td>12</td>\n",
       "      <td>11</td>\n",
       "      <td>40.0</td>\n",
       "      <td>5</td>\n",
       "      <td>1</td>\n",
       "      <td>2</td>\n",
       "      <td>0.011419</td>\n",
       "      <td>1</td>\n",
       "      <td>64.0</td>\n",
       "      <td>1</td>\n",
       "      <td>0</td>\n",
       "      <td>1</td>\n",
       "      <td>1</td>\n",
       "    </tr>\n",
       "    <tr>\n",
       "      <th>1</th>\n",
       "      <td>1</td>\n",
       "      <td>1</td>\n",
       "      <td>2</td>\n",
       "      <td>0</td>\n",
       "      <td>5</td>\n",
       "      <td>12</td>\n",
       "      <td>11</td>\n",
       "      <td>40.0</td>\n",
       "      <td>5</td>\n",
       "      <td>1</td>\n",
       "      <td>2</td>\n",
       "      <td>0.011419</td>\n",
       "      <td>1</td>\n",
       "      <td>64.0</td>\n",
       "      <td>1</td>\n",
       "      <td>0</td>\n",
       "      <td>1</td>\n",
       "      <td>1</td>\n",
       "    </tr>\n",
       "    <tr>\n",
       "      <th>2</th>\n",
       "      <td>4</td>\n",
       "      <td>3</td>\n",
       "      <td>1</td>\n",
       "      <td>1</td>\n",
       "      <td>88</td>\n",
       "      <td>12</td>\n",
       "      <td>11</td>\n",
       "      <td>180.0</td>\n",
       "      <td>3</td>\n",
       "      <td>1</td>\n",
       "      <td>2</td>\n",
       "      <td>0.032295</td>\n",
       "      <td>6</td>\n",
       "      <td>59.0</td>\n",
       "      <td>1</td>\n",
       "      <td>0</td>\n",
       "      <td>2</td>\n",
       "      <td>2</td>\n",
       "    </tr>\n",
       "    <tr>\n",
       "      <th>3</th>\n",
       "      <td>6</td>\n",
       "      <td>3</td>\n",
       "      <td>1</td>\n",
       "      <td>1</td>\n",
       "      <td>88</td>\n",
       "      <td>12</td>\n",
       "      <td>11</td>\n",
       "      <td>19.0</td>\n",
       "      <td>3</td>\n",
       "      <td>1</td>\n",
       "      <td>2</td>\n",
       "      <td>0.032248</td>\n",
       "      <td>6</td>\n",
       "      <td>59.0</td>\n",
       "      <td>1</td>\n",
       "      <td>0</td>\n",
       "      <td>2</td>\n",
       "      <td>2</td>\n",
       "    </tr>\n",
       "    <tr>\n",
       "      <th>4</th>\n",
       "      <td>9</td>\n",
       "      <td>4</td>\n",
       "      <td>2</td>\n",
       "      <td>0</td>\n",
       "      <td>5</td>\n",
       "      <td>12</td>\n",
       "      <td>11</td>\n",
       "      <td>20.0</td>\n",
       "      <td>5</td>\n",
       "      <td>1</td>\n",
       "      <td>2</td>\n",
       "      <td>0.030465</td>\n",
       "      <td>8</td>\n",
       "      <td>14.0</td>\n",
       "      <td>1</td>\n",
       "      <td>1</td>\n",
       "      <td>2</td>\n",
       "      <td>2</td>\n",
       "    </tr>\n",
       "    <tr>\n",
       "      <th>...</th>\n",
       "      <td>...</td>\n",
       "      <td>...</td>\n",
       "      <td>...</td>\n",
       "      <td>...</td>\n",
       "      <td>...</td>\n",
       "      <td>...</td>\n",
       "      <td>...</td>\n",
       "      <td>...</td>\n",
       "      <td>...</td>\n",
       "      <td>...</td>\n",
       "      <td>...</td>\n",
       "      <td>...</td>\n",
       "      <td>...</td>\n",
       "      <td>...</td>\n",
       "      <td>...</td>\n",
       "      <td>...</td>\n",
       "      <td>...</td>\n",
       "      <td>...</td>\n",
       "    </tr>\n",
       "    <tr>\n",
       "      <th>53609</th>\n",
       "      <td>59447</td>\n",
       "      <td>16204</td>\n",
       "      <td>1</td>\n",
       "      <td>0</td>\n",
       "      <td>5</td>\n",
       "      <td>55</td>\n",
       "      <td>12</td>\n",
       "      <td>30.0</td>\n",
       "      <td>4</td>\n",
       "      <td>1</td>\n",
       "      <td>1</td>\n",
       "      <td>0.057946</td>\n",
       "      <td>42332</td>\n",
       "      <td>38.0</td>\n",
       "      <td>1</td>\n",
       "      <td>0</td>\n",
       "      <td>3</td>\n",
       "      <td>2</td>\n",
       "    </tr>\n",
       "    <tr>\n",
       "      <th>53610</th>\n",
       "      <td>59448</td>\n",
       "      <td>16207</td>\n",
       "      <td>1</td>\n",
       "      <td>1</td>\n",
       "      <td>5</td>\n",
       "      <td>13</td>\n",
       "      <td>37</td>\n",
       "      <td>10.0</td>\n",
       "      <td>2</td>\n",
       "      <td>1</td>\n",
       "      <td>1</td>\n",
       "      <td>0.064766</td>\n",
       "      <td>42339</td>\n",
       "      <td>33.0</td>\n",
       "      <td>2</td>\n",
       "      <td>0</td>\n",
       "      <td>3</td>\n",
       "      <td>2</td>\n",
       "    </tr>\n",
       "    <tr>\n",
       "      <th>53611</th>\n",
       "      <td>59449</td>\n",
       "      <td>16207</td>\n",
       "      <td>1</td>\n",
       "      <td>1</td>\n",
       "      <td>5</td>\n",
       "      <td>38</td>\n",
       "      <td>12</td>\n",
       "      <td>9.0</td>\n",
       "      <td>2</td>\n",
       "      <td>1</td>\n",
       "      <td>1</td>\n",
       "      <td>0.065046</td>\n",
       "      <td>42339</td>\n",
       "      <td>33.0</td>\n",
       "      <td>2</td>\n",
       "      <td>0</td>\n",
       "      <td>3</td>\n",
       "      <td>2</td>\n",
       "    </tr>\n",
       "    <tr>\n",
       "      <th>53612</th>\n",
       "      <td>59450</td>\n",
       "      <td>16207</td>\n",
       "      <td>1</td>\n",
       "      <td>1</td>\n",
       "      <td>5</td>\n",
       "      <td>13</td>\n",
       "      <td>37</td>\n",
       "      <td>9.0</td>\n",
       "      <td>2</td>\n",
       "      <td>1</td>\n",
       "      <td>1</td>\n",
       "      <td>0.065046</td>\n",
       "      <td>42339</td>\n",
       "      <td>33.0</td>\n",
       "      <td>2</td>\n",
       "      <td>0</td>\n",
       "      <td>3</td>\n",
       "      <td>2</td>\n",
       "    </tr>\n",
       "    <tr>\n",
       "      <th>53613</th>\n",
       "      <td>59451</td>\n",
       "      <td>16207</td>\n",
       "      <td>1</td>\n",
       "      <td>1</td>\n",
       "      <td>5</td>\n",
       "      <td>38</td>\n",
       "      <td>12</td>\n",
       "      <td>10.0</td>\n",
       "      <td>2</td>\n",
       "      <td>1</td>\n",
       "      <td>1</td>\n",
       "      <td>0.065046</td>\n",
       "      <td>42339</td>\n",
       "      <td>33.0</td>\n",
       "      <td>2</td>\n",
       "      <td>0</td>\n",
       "      <td>3</td>\n",
       "      <td>2</td>\n",
       "    </tr>\n",
       "  </tbody>\n",
       "</table>\n",
       "<p>53614 rows × 18 columns</p>\n",
       "</div>"
      ],
      "text/plain": [
       "       Unnamed: 0_x  id_hogar  id_persona  motivo  veces_por_semana_viaja  \\\n",
       "0                 0         1           2       0                       5   \n",
       "1                 1         1           2       0                       5   \n",
       "2                 4         3           1       1                      88   \n",
       "3                 6         3           1       1                      88   \n",
       "4                 9         4           2       0                       5   \n",
       "...             ...       ...         ...     ...                     ...   \n",
       "53609         59447     16204           1       0                       5   \n",
       "53610         59448     16207           1       1                       5   \n",
       "53611         59449     16207           1       1                       5   \n",
       "53612         59450     16207           1       1                       5   \n",
       "53613         59451     16207           1       1                       5   \n",
       "\n",
       "       partido_origen_viaje  partido_destino_viaje  duracion_minutos  \\\n",
       "0                        12                     11              40.0   \n",
       "1                        12                     11              40.0   \n",
       "2                        12                     11             180.0   \n",
       "3                        12                     11              19.0   \n",
       "4                        12                     11              20.0   \n",
       "...                     ...                    ...               ...   \n",
       "53609                    55                     12              30.0   \n",
       "53610                    13                     37              10.0   \n",
       "53611                    38                     12               9.0   \n",
       "53612                    13                     37               9.0   \n",
       "53613                    38                     12              10.0   \n",
       "\n",
       "       modo_des  cantidad_etapas  tipo_viaje  distancia_viaje_km  \\\n",
       "0             5                1           2            0.011419   \n",
       "1             5                1           2            0.011419   \n",
       "2             3                1           2            0.032295   \n",
       "3             3                1           2            0.032248   \n",
       "4             5                1           2            0.030465   \n",
       "...         ...              ...         ...                 ...   \n",
       "53609         4                1           1            0.057946   \n",
       "53610         2                1           1            0.064766   \n",
       "53611         2                1           1            0.065046   \n",
       "53612         2                1           1            0.065046   \n",
       "53613         2                1           1            0.065046   \n",
       "\n",
       "       Unnamed: 0_y  edad  sexo  ambito_cursando  nivel_aprobado  \\\n",
       "0                 1  64.0     1                0               1   \n",
       "1                 1  64.0     1                0               1   \n",
       "2                 6  59.0     1                0               2   \n",
       "3                 6  59.0     1                0               2   \n",
       "4                 8  14.0     1                1               2   \n",
       "...             ...   ...   ...              ...             ...   \n",
       "53609         42332  38.0     1                0               3   \n",
       "53610         42339  33.0     2                0               3   \n",
       "53611         42339  33.0     2                0               3   \n",
       "53612         42339  33.0     2                0               3   \n",
       "53613         42339  33.0     2                0               3   \n",
       "\n",
       "       licencia_de_conducir  \n",
       "0                         1  \n",
       "1                         1  \n",
       "2                         2  \n",
       "3                         2  \n",
       "4                         2  \n",
       "...                     ...  \n",
       "53609                     2  \n",
       "53610                     2  \n",
       "53611                     2  \n",
       "53612                     2  \n",
       "53613                     2  \n",
       "\n",
       "[53614 rows x 18 columns]"
      ]
     },
     "execution_count": 65,
     "metadata": {},
     "output_type": "execute_result"
    }
   ],
   "source": [
    "mov_mot"
   ]
  },
  {
   "cell_type": "markdown",
   "id": "a984fac1",
   "metadata": {},
   "source": [
    "#### Selección de Target (y) y Variables (X)"
   ]
  },
  {
   "cell_type": "markdown",
   "id": "fe8a0b6c",
   "metadata": {},
   "source": [
    "Determinamos que la variable a predecir debe estar balanceada. En este caso se ha decidido precedir si una persona viajará por motivos de trabajo o estudio, u otros motivos. (0  motivos de viaje relacionados al trabajo o estudio, y 1 a otros motivos)"
   ]
  },
  {
   "cell_type": "code",
   "execution_count": 21,
   "id": "cbc0f59c",
   "metadata": {},
   "outputs": [
    {
     "data": {
      "image/png": "[encoded data removed]",
      "text/plain": [
       "<Figure size 640x480 with 1 Axes>"
      ]
     },
     "metadata": {},
     "output_type": "display_data"
    }
   ],
   "source": [
    "sns.countplot(x=mov_mot['motivo'], palette='Set2')\n",
    "plt.xlabel('Motivo', size=14)\n",
    "plt.ylabel('Personas', size=14)\n",
    "plt.title('Distribución de Motivos')\n",
    "sns.despine()"
   ]
  },
  {
   "cell_type": "code",
   "execution_count": 22,
   "id": "080dbf1d",
   "metadata": {},
   "outputs": [],
   "source": [
    "# Eliminamos aquellas variables que no queremos incluir en el modelo y las guardamos en x.\n",
    "x = mov_mot.drop(['id_persona', 'id_hogar', 'motivo'], axis=1)"
   ]
  },
  {
   "cell_type": "code",
   "execution_count": 23,
   "id": "579e4ff9",
   "metadata": {},
   "outputs": [
    {
     "data": {
      "text/plain": [
       "(53614, 15)"
      ]
     },
     "execution_count": 23,
     "metadata": {},
     "output_type": "execute_result"
    }
   ],
   "source": [
    "x.shape"
   ]
  },
  {
   "cell_type": "code",
   "execution_count": 24,
   "id": "3e5abd33",
   "metadata": {},
   "outputs": [],
   "source": [
    "lista_atributos = x.columns"
   ]
  },
  {
   "cell_type": "code",
   "execution_count": 25,
   "id": "e43c631c",
   "metadata": {},
   "outputs": [
    {
     "data": {
      "text/plain": [
       "Index(['Unnamed: 0_x', 'veces_por_semana_viaja', 'partido_origen_viaje',\n",
       "       'partido_destino_viaje', 'duracion_minutos', 'modo_des',\n",
       "       'cantidad_etapas', 'tipo_viaje', 'distancia_viaje_km', 'Unnamed: 0_y',\n",
       "       'edad', 'sexo', 'ambito_cursando', 'nivel_aprobado',\n",
       "       'licencia_de_conducir'],\n",
       "      dtype='object')"
      ]
     },
     "execution_count": 25,
     "metadata": {},
     "output_type": "execute_result"
    }
   ],
   "source": [
    "lista_atributos"
   ]
  },
  {
   "cell_type": "code",
   "execution_count": 26,
   "id": "0be4a26a",
   "metadata": {},
   "outputs": [],
   "source": [
    "# Ahora seleccionamos las etiquetas y las guardamos en y.\n",
    "y = mov_mot['motivo']"
   ]
  },
  {
   "cell_type": "code",
   "execution_count": 27,
   "id": "b255b3b4",
   "metadata": {},
   "outputs": [],
   "source": [
    "x, y = np.array(x), np.array(y)"
   ]
  },
  {
   "cell_type": "markdown",
   "id": "4771f041",
   "metadata": {},
   "source": [
    "#### Separando Train / Test"
   ]
  },
  {
   "cell_type": "markdown",
   "id": "6e490fb4",
   "metadata": {},
   "source": [
    "Ahora tenemos que separar el dataset en conjuntos de entrenamiento (X_train, y_train) y de testeo (X_test, y_test) usando la función train_test_split de scikit-learn."
   ]
  },
  {
   "cell_type": "code",
   "execution_count": 28,
   "id": "0f463ac3",
   "metadata": {},
   "outputs": [],
   "source": [
    "from sklearn.model_selection import train_test_split"
   ]
  },
  {
   "cell_type": "code",
   "execution_count": 29,
   "id": "58c824dd",
   "metadata": {},
   "outputs": [],
   "source": [
    "X_train, X_test, y_train, y_test = train_test_split(x, y, test_size=0.2,\n",
    "                                                    random_state=70)"
   ]
  },
  {
   "cell_type": "code",
   "execution_count": 30,
   "id": "8b07ca02",
   "metadata": {},
   "outputs": [
    {
     "data": {
      "text/plain": [
       "(42891, 15)"
      ]
     },
     "execution_count": 30,
     "metadata": {},
     "output_type": "execute_result"
    }
   ],
   "source": [
    "X_train.shape"
   ]
  },
  {
   "cell_type": "code",
   "execution_count": 31,
   "id": "b04872c4",
   "metadata": {},
   "outputs": [
    {
     "data": {
      "text/plain": [
       "(10723, 15)"
      ]
     },
     "execution_count": 31,
     "metadata": {},
     "output_type": "execute_result"
    }
   ],
   "source": [
    "X_test.shape"
   ]
  },
  {
   "cell_type": "markdown",
   "id": "d761d28f",
   "metadata": {},
   "source": [
    "### Modelos"
   ]
  },
  {
   "cell_type": "code",
   "execution_count": 32,
   "id": "b54e2023",
   "metadata": {},
   "outputs": [],
   "source": [
    "from sklearn.neighbors import KNeighborsClassifier"
   ]
  },
  {
   "cell_type": "code",
   "execution_count": 33,
   "id": "417e7673",
   "metadata": {},
   "outputs": [],
   "source": [
    "from sklearn.ensemble import RandomForestClassifier"
   ]
  },
  {
   "cell_type": "code",
   "execution_count": 34,
   "id": "93bf118b",
   "metadata": {},
   "outputs": [],
   "source": [
    "from sklearn.model_selection import GridSearchCV"
   ]
  },
  {
   "cell_type": "code",
   "execution_count": 35,
   "id": "613a4434",
   "metadata": {},
   "outputs": [],
   "source": [
    "# Métricas\n",
    "from sklearn.metrics import (\n",
    "    accuracy_score,\n",
    "    confusion_matrix,\n",
    "    precision_score,\n",
    "    recall_score,\n",
    "    f1_score\n",
    ")"
   ]
  },
  {
   "cell_type": "markdown",
   "id": "33a17f2e",
   "metadata": {},
   "source": [
    "#### Clasificador KNN"
   ]
  },
  {
   "cell_type": "markdown",
   "id": "fe0231b0",
   "metadata": {},
   "source": [
    "Optimizaremos los parámetros del clasificador kNN y empezamos encontrando el mejor K."
   ]
  },
  {
   "cell_type": "code",
   "execution_count": 36,
   "id": "3fd79ffa",
   "metadata": {},
   "outputs": [],
   "source": [
    "ACC_train = []\n",
    "ACC_test = []\n",
    "\n",
    "vecinos = [1, 3, 5, 10, 15, 20, 27, 50]\n",
    "for n in vecinos:\n",
    "    \n",
    "    clf = KNeighborsClassifier(n_neighbors=n)\n",
    "    \n",
    "    clf.fit(X_train, y_train)\n",
    "    y_train_pred = clf.predict(X_train)\n",
    "    \n",
    "    train_acc = accuracy_score(y_train, y_train_pred)\n",
    "    ACC_train.append(train_acc)\n",
    "    \n",
    "    y_test_pred = clf.predict(X_test)\n",
    "    test_acc = accuracy_score(y_test, y_test_pred)\n",
    "    ACC_test.append(test_acc)"
   ]
  },
  {
   "cell_type": "code",
   "execution_count": 37,
   "id": "9a035209",
   "metadata": {},
   "outputs": [
    {
     "data": {
      "image/png": "[encoded data removed]",
      "text/plain": [
       "<Figure size 640x480 with 1 Axes>"
      ]
     },
     "metadata": {},
     "output_type": "display_data"
    }
   ],
   "source": [
    "plt.plot(vecinos,ACC_train,'o-',label='train', color='#DCE775')\n",
    "plt.plot(vecinos,ACC_test,'o-',label='test', color='#EC407A')\n",
    "plt.legend()\n",
    "sns.despine();"
   ]
  },
  {
   "cell_type": "markdown",
   "id": "8f810cb4",
   "metadata": {},
   "source": [
    "Y ahora hacemos una búsqueda con GridSearchCV para obtener los hiperparámetros óptimos utilizando además validación cruzada."
   ]
  },
  {
   "cell_type": "code",
   "execution_count": 38,
   "id": "426247f1",
   "metadata": {},
   "outputs": [],
   "source": [
    "# Valores para los parámetros a optimizar\n",
    "param_grid_vec = {\n",
    "    'n_neighbors': [3, 5, 10,15,16, 25, 26],\n",
    "    'weights': ['uniform','distance'],\n",
    "    'metric': ['euclidean', 'manhattan'],\n",
    "}"
   ]
  },
  {
   "cell_type": "code",
   "execution_count": 39,
   "id": "1a76fefc",
   "metadata": {},
   "outputs": [],
   "source": [
    "knn_search = KNeighborsClassifier()"
   ]
  },
  {
   "cell_type": "code",
   "execution_count": 40,
   "id": "b4f3b3e4",
   "metadata": {},
   "outputs": [],
   "source": [
    "vecinos_search = GridSearchCV(estimator=knn_search, param_grid=param_grid_vec,\n",
    "                         cv=3, verbose=2, n_jobs=-1)"
   ]
  },
  {
   "cell_type": "code",
   "execution_count": 41,
   "id": "36f9d841",
   "metadata": {},
   "outputs": [
    {
     "name": "stdout",
     "output_type": "stream",
     "text": [
      "Fitting 3 folds for each of 28 candidates, totalling 84 fits\n"
     ]
    },
    {
     "data": {
      "text/html": [
       "<style>#sk-container-id-1 {color: black;background-color: white;}#sk-container-id-1 pre{padding: 0;}#sk-container-id-1 div.sk-toggleable {background-color: white;}#sk-container-id-1 label.sk-toggleable__label {cursor: pointer;display: block;width: 100%;margin-bottom: 0;padding: 0.3em;box-sizing: border-box;text-align: center;}#sk-container-id-1 label.sk-toggleable__label-arrow:before {content: \"▸\";float: left;margin-right: 0.25em;color: #696969;}#sk-container-id-1 label.sk-toggleable__label-arrow:hover:before {color: black;}#sk-container-id-1 div.sk-estimator:hover label.sk-toggleable__label-arrow:before {color: black;}#sk-container-id-1 div.sk-toggleable__content {max-height: 0;max-width: 0;overflow: hidden;text-align: left;background-color: #f0f8ff;}#sk-container-id-1 div.sk-toggleable__content pre {margin: 0.2em;color: black;border-radius: 0.25em;background-color: #f0f8ff;}#sk-container-id-1 input.sk-toggleable__control:checked~div.sk-toggleable__content {max-height: 200px;max-width: 100%;overflow: auto;}#sk-container-id-1 input.sk-toggleable__control:checked~label.sk-toggleable__label-arrow:before {content: \"▾\";}#sk-container-id-1 div.sk-estimator input.sk-toggleable__control:checked~label.sk-toggleable__label {background-color: #d4ebff;}#sk-container-id-1 div.sk-label input.sk-toggleable__control:checked~label.sk-toggleable__label {background-color: #d4ebff;}#sk-container-id-1 input.sk-hidden--visually {border: 0;clip: rect(1px 1px 1px 1px);clip: rect(1px, 1px, 1px, 1px);height: 1px;margin: -1px;overflow: hidden;padding: 0;position: absolute;width: 1px;}#sk-container-id-1 div.sk-estimator {font-family: monospace;background-color: #f0f8ff;border: 1px dotted black;border-radius: 0.25em;box-sizing: border-box;margin-bottom: 0.5em;}#sk-container-id-1 div.sk-estimator:hover {background-color: #d4ebff;}#sk-container-id-1 div.sk-parallel-item::after {content: \"\";width: 100%;border-bottom: 1px solid gray;flex-grow: 1;}#sk-container-id-1 div.sk-label:hover label.sk-toggleable__label {background-color: #d4ebff;}#sk-container-id-1 div.sk-serial::before {content: \"\";position: absolute;border-left: 1px solid gray;box-sizing: border-box;top: 0;bottom: 0;left: 50%;z-index: 0;}#sk-container-id-1 div.sk-serial {display: flex;flex-direction: column;align-items: center;background-color: white;padding-right: 0.2em;padding-left: 0.2em;position: relative;}#sk-container-id-1 div.sk-item {position: relative;z-index: 1;}#sk-container-id-1 div.sk-parallel {display: flex;align-items: stretch;justify-content: center;background-color: white;position: relative;}#sk-container-id-1 div.sk-item::before, #sk-container-id-1 div.sk-parallel-item::before {content: \"\";position: absolute;border-left: 1px solid gray;box-sizing: border-box;top: 0;bottom: 0;left: 50%;z-index: -1;}#sk-container-id-1 div.sk-parallel-item {display: flex;flex-direction: column;z-index: 1;position: relative;background-color: white;}#sk-container-id-1 div.sk-parallel-item:first-child::after {align-self: flex-end;width: 50%;}#sk-container-id-1 div.sk-parallel-item:last-child::after {align-self: flex-start;width: 50%;}#sk-container-id-1 div.sk-parallel-item:only-child::after {width: 0;}#sk-container-id-1 div.sk-dashed-wrapped {border: 1px dashed gray;margin: 0 0.4em 0.5em 0.4em;box-sizing: border-box;padding-bottom: 0.4em;background-color: white;}#sk-container-id-1 div.sk-label label {font-family: monospace;font-weight: bold;display: inline-block;line-height: 1.2em;}#sk-container-id-1 div.sk-label-container {text-align: center;}#sk-container-id-1 div.sk-container {/* jupyter's `normalize.less` sets `[hidden] { display: none; }` but bootstrap.min.css set `[hidden] { display: none !important; }` so we also need the `!important` here to be able to override the default hidden behavior on the sphinx rendered scikit-learn.org. See: https://github.com/scikit-learn/scikit-learn/issues/21755 */display: inline-block !important;position: relative;}#sk-container-id-1 div.sk-text-repr-fallback {display: none;}</style><div id=\"sk-container-id-1\" class=\"sk-top-container\"><div class=\"sk-text-repr-fallback\"><pre>GridSearchCV(cv=3, estimator=KNeighborsClassifier(), n_jobs=-1,\n",
       "             param_grid={&#x27;metric&#x27;: [&#x27;euclidean&#x27;, &#x27;manhattan&#x27;],\n",
       "                         &#x27;n_neighbors&#x27;: [3, 5, 10, 15, 16, 25, 26],\n",
       "                         &#x27;weights&#x27;: [&#x27;uniform&#x27;, &#x27;distance&#x27;]},\n",
       "             verbose=2)</pre><b>In a Jupyter environment, please rerun this cell to show the HTML representation or trust the notebook. <br />On GitHub, the HTML representation is unable to render, please try loading this page with nbviewer.org.</b></div><div class=\"sk-container\" hidden><div class=\"sk-item sk-dashed-wrapped\"><div class=\"sk-label-container\"><div class=\"sk-label sk-toggleable\"><input class=\"sk-toggleable__control sk-hidden--visually\" id=\"sk-estimator-id-1\" type=\"checkbox\" ><label for=\"sk-estimator-id-1\" class=\"sk-toggleable__label sk-toggleable__label-arrow\">GridSearchCV</label><div class=\"sk-toggleable__content\"><pre>GridSearchCV(cv=3, estimator=KNeighborsClassifier(), n_jobs=-1,\n",
       "             param_grid={&#x27;metric&#x27;: [&#x27;euclidean&#x27;, &#x27;manhattan&#x27;],\n",
       "                         &#x27;n_neighbors&#x27;: [3, 5, 10, 15, 16, 25, 26],\n",
       "                         &#x27;weights&#x27;: [&#x27;uniform&#x27;, &#x27;distance&#x27;]},\n",
       "             verbose=2)</pre></div></div></div><div class=\"sk-parallel\"><div class=\"sk-parallel-item\"><div class=\"sk-item\"><div class=\"sk-label-container\"><div class=\"sk-label sk-toggleable\"><input class=\"sk-toggleable__control sk-hidden--visually\" id=\"sk-estimator-id-2\" type=\"checkbox\" ><label for=\"sk-estimator-id-2\" class=\"sk-toggleable__label sk-toggleable__label-arrow\">estimator: KNeighborsClassifier</label><div class=\"sk-toggleable__content\"><pre>KNeighborsClassifier()</pre></div></div></div><div class=\"sk-serial\"><div class=\"sk-item\"><div class=\"sk-estimator sk-toggleable\"><input class=\"sk-toggleable__control sk-hidden--visually\" id=\"sk-estimator-id-3\" type=\"checkbox\" ><label for=\"sk-estimator-id-3\" class=\"sk-toggleable__label sk-toggleable__label-arrow\">KNeighborsClassifier</label><div class=\"sk-toggleable__content\"><pre>KNeighborsClassifier()</pre></div></div></div></div></div></div></div></div></div></div>"
      ],
      "text/plain": [
       "GridSearchCV(cv=3, estimator=KNeighborsClassifier(), n_jobs=-1,\n",
       "             param_grid={'metric': ['euclidean', 'manhattan'],\n",
       "                         'n_neighbors': [3, 5, 10, 15, 16, 25, 26],\n",
       "                         'weights': ['uniform', 'distance']},\n",
       "             verbose=2)"
      ]
     },
     "execution_count": 41,
     "metadata": {},
     "output_type": "execute_result"
    }
   ],
   "source": [
    "vecinos_search.fit(X_train, y_train)"
   ]
  },
  {
   "cell_type": "code",
   "execution_count": 42,
   "id": "56340472",
   "metadata": {},
   "outputs": [
    {
     "data": {
      "text/plain": [
       "{'metric': 'manhattan', 'n_neighbors': 3, 'weights': 'distance'}"
      ]
     },
     "execution_count": 42,
     "metadata": {},
     "output_type": "execute_result"
    }
   ],
   "source": [
    "# Mejores hiperparámetros\n",
    "vecinos_search.best_params_"
   ]
  },
  {
   "cell_type": "markdown",
   "id": "b1aa897f",
   "metadata": {},
   "source": [
    "Ahora entrenemos el Modelo Final."
   ]
  },
  {
   "cell_type": "code",
   "execution_count": 43,
   "id": "419ee234",
   "metadata": {},
   "outputs": [],
   "source": [
    "knn_best = KNeighborsClassifier(metric='manhattan', n_neighbors=3, weights='distance')"
   ]
  },
  {
   "cell_type": "code",
   "execution_count": 44,
   "id": "f374651c",
   "metadata": {},
   "outputs": [
    {
     "data": {
      "text/html": [
       "<style>#sk-container-id-2 {color: black;background-color: white;}#sk-container-id-2 pre{padding: 0;}#sk-container-id-2 div.sk-toggleable {background-color: white;}#sk-container-id-2 label.sk-toggleable__label {cursor: pointer;display: block;width: 100%;margin-bottom: 0;padding: 0.3em;box-sizing: border-box;text-align: center;}#sk-container-id-2 label.sk-toggleable__label-arrow:before {content: \"▸\";float: left;margin-right: 0.25em;color: #696969;}#sk-container-id-2 label.sk-toggleable__label-arrow:hover:before {color: black;}#sk-container-id-2 div.sk-estimator:hover label.sk-toggleable__label-arrow:before {color: black;}#sk-container-id-2 div.sk-toggleable__content {max-height: 0;max-width: 0;overflow: hidden;text-align: left;background-color: #f0f8ff;}#sk-container-id-2 div.sk-toggleable__content pre {margin: 0.2em;color: black;border-radius: 0.25em;background-color: #f0f8ff;}#sk-container-id-2 input.sk-toggleable__control:checked~div.sk-toggleable__content {max-height: 200px;max-width: 100%;overflow: auto;}#sk-container-id-2 input.sk-toggleable__control:checked~label.sk-toggleable__label-arrow:before {content: \"▾\";}#sk-container-id-2 div.sk-estimator input.sk-toggleable__control:checked~label.sk-toggleable__label {background-color: #d4ebff;}#sk-container-id-2 div.sk-label input.sk-toggleable__control:checked~label.sk-toggleable__label {background-color: #d4ebff;}#sk-container-id-2 input.sk-hidden--visually {border: 0;clip: rect(1px 1px 1px 1px);clip: rect(1px, 1px, 1px, 1px);height: 1px;margin: -1px;overflow: hidden;padding: 0;position: absolute;width: 1px;}#sk-container-id-2 div.sk-estimator {font-family: monospace;background-color: #f0f8ff;border: 1px dotted black;border-radius: 0.25em;box-sizing: border-box;margin-bottom: 0.5em;}#sk-container-id-2 div.sk-estimator:hover {background-color: #d4ebff;}#sk-container-id-2 div.sk-parallel-item::after {content: \"\";width: 100%;border-bottom: 1px solid gray;flex-grow: 1;}#sk-container-id-2 div.sk-label:hover label.sk-toggleable__label {background-color: #d4ebff;}#sk-container-id-2 div.sk-serial::before {content: \"\";position: absolute;border-left: 1px solid gray;box-sizing: border-box;top: 0;bottom: 0;left: 50%;z-index: 0;}#sk-container-id-2 div.sk-serial {display: flex;flex-direction: column;align-items: center;background-color: white;padding-right: 0.2em;padding-left: 0.2em;position: relative;}#sk-container-id-2 div.sk-item {position: relative;z-index: 1;}#sk-container-id-2 div.sk-parallel {display: flex;align-items: stretch;justify-content: center;background-color: white;position: relative;}#sk-container-id-2 div.sk-item::before, #sk-container-id-2 div.sk-parallel-item::before {content: \"\";position: absolute;border-left: 1px solid gray;box-sizing: border-box;top: 0;bottom: 0;left: 50%;z-index: -1;}#sk-container-id-2 div.sk-parallel-item {display: flex;flex-direction: column;z-index: 1;position: relative;background-color: white;}#sk-container-id-2 div.sk-parallel-item:first-child::after {align-self: flex-end;width: 50%;}#sk-container-id-2 div.sk-parallel-item:last-child::after {align-self: flex-start;width: 50%;}#sk-container-id-2 div.sk-parallel-item:only-child::after {width: 0;}#sk-container-id-2 div.sk-dashed-wrapped {border: 1px dashed gray;margin: 0 0.4em 0.5em 0.4em;box-sizing: border-box;padding-bottom: 0.4em;background-color: white;}#sk-container-id-2 div.sk-label label {font-family: monospace;font-weight: bold;display: inline-block;line-height: 1.2em;}#sk-container-id-2 div.sk-label-container {text-align: center;}#sk-container-id-2 div.sk-container {/* jupyter's `normalize.less` sets `[hidden] { display: none; }` but bootstrap.min.css set `[hidden] { display: none !important; }` so we also need the `!important` here to be able to override the default hidden behavior on the sphinx rendered scikit-learn.org. See: https://github.com/scikit-learn/scikit-learn/issues/21755 */display: inline-block !important;position: relative;}#sk-container-id-2 div.sk-text-repr-fallback {display: none;}</style><div id=\"sk-container-id-2\" class=\"sk-top-container\"><div class=\"sk-text-repr-fallback\"><pre>KNeighborsClassifier(metric=&#x27;manhattan&#x27;, n_neighbors=3, weights=&#x27;distance&#x27;)</pre><b>In a Jupyter environment, please rerun this cell to show the HTML representation or trust the notebook. <br />On GitHub, the HTML representation is unable to render, please try loading this page with nbviewer.org.</b></div><div class=\"sk-container\" hidden><div class=\"sk-item\"><div class=\"sk-estimator sk-toggleable\"><input class=\"sk-toggleable__control sk-hidden--visually\" id=\"sk-estimator-id-4\" type=\"checkbox\" checked><label for=\"sk-estimator-id-4\" class=\"sk-toggleable__label sk-toggleable__label-arrow\">KNeighborsClassifier</label><div class=\"sk-toggleable__content\"><pre>KNeighborsClassifier(metric=&#x27;manhattan&#x27;, n_neighbors=3, weights=&#x27;distance&#x27;)</pre></div></div></div></div></div>"
      ],
      "text/plain": [
       "KNeighborsClassifier(metric='manhattan', n_neighbors=3, weights='distance')"
      ]
     },
     "execution_count": 44,
     "metadata": {},
     "output_type": "execute_result"
    }
   ],
   "source": [
    "knn_best.fit(X_train, y_train)"
   ]
  },
  {
   "cell_type": "code",
   "execution_count": 45,
   "id": "1238f340",
   "metadata": {},
   "outputs": [],
   "source": [
    "new_predictions = knn_best.predict(X_test)"
   ]
  },
  {
   "cell_type": "markdown",
   "id": "6a15120a",
   "metadata": {},
   "source": [
    "**Métricas**\n",
    "\n",
    "Matriz de confusión:\n",
    "\n",
    "True Positive (TP)  |  False Negative (FN)   \n",
    "= = = = = = = = = = = = = = = = = = = = =       \n",
    "False positive (FP) | True Negative (TN)  \n"
   ]
  },
  {
   "cell_type": "code",
   "execution_count": 46,
   "id": "f29b04a0",
   "metadata": {},
   "outputs": [
    {
     "data": {
      "image/png": "[encoded data removed]",
      "text/plain": [
       "<Figure size 640x480 with 2 Axes>"
      ]
     },
     "metadata": {},
     "output_type": "display_data"
    }
   ],
   "source": [
    "plt.figure()\n",
    "random_confusion = confusion_matrix(y_test, new_predictions)\n",
    "ax=sns.heatmap(random_confusion, cmap=\"YlGnBu\",annot=True,fmt='d');\n",
    "ax.set_xlabel(\"Motivos por los cuales viajan (predicción)\", fontsize=12, labelpad=20)\n",
    "ax.xaxis.set_ticklabels(['Si', 'No'])\n",
    "ax.set_ylabel(\"Motivos por los cuales viajan (real)\", fontsize=12, labelpad=20)\n",
    "ax.yaxis.set_ticklabels(['Si', 'No'])\n",
    "ax.set_title(\"Confusion Matrix Modelo KNN de Motivos de Viajes\", fontsize=14, pad=20)\n",
    "plt.show()"
   ]
  },
  {
   "cell_type": "markdown",
   "id": "0a5db8aa",
   "metadata": {},
   "source": [
    "La Matriz de Confusión nos permite evaluar la performance de nuestro Modelo de Clasificación, dándonos una combinación de los valores actuales y estimados.\n",
    "\n",
    "De esta manera, observamos que 4.823 valores se predijeron Negativos y eran efectivamente Negativos y 4.874 eran efectivamente Positivos y se predijeron como Positivos.\n",
    "\n",
    "Dentro de los Falsos Positivos y Falsos Negativos, tenemos para computar 455, en los que se predijo que sí viajaban por motivo de trabajo o estudio cuando no ocurre conforme a la encuesta y 571 como que no viajaban por motivo de trabajo o estudio, cuando sí lo hacen."
   ]
  },
  {
   "cell_type": "code",
   "execution_count": 47,
   "id": "060a9696",
   "metadata": {},
   "outputs": [
    {
     "name": "stdout",
     "output_type": "stream",
     "text": [
      "Accuracy: 90.43%\n",
      "Precision: 89.41%\n",
      "Recall: 91.38%\n",
      "F1 score: 90.39%\n"
     ]
    }
   ],
   "source": [
    "print(f\"Accuracy: {accuracy_score(y_test, new_predictions)*100 :.2f}%\")\n",
    "print(f\"Precision: {precision_score(y_test, new_predictions)*100 :.2f}%\")\n",
    "print(f\"Recall: {recall_score(y_test, new_predictions)*100 :.2f}%\")\n",
    "print(f\"F1 score: {f1_score(y_test, new_predictions)*100 :.2f}%\")"
   ]
  },
  {
   "cell_type": "markdown",
   "id": "8852e5a3",
   "metadata": {},
   "source": [
    "#### Clasificador RandomForest"
   ]
  },
  {
   "cell_type": "code",
   "execution_count": 48,
   "id": "3a221bfc",
   "metadata": {},
   "outputs": [],
   "source": [
    "# Valores para los parámetros a optimizar\n",
    "param_grid_vec_random = {\n",
    "    'max_features': ['auto', 'sqrt', 'log2', None],\n",
    "    'max_depth': [2, 3, 4, 8, 10],\n",
    "    'criterion': ['gini', 'entropy'],\n",
    "    'bootstrap': [True, False],\n",
    "    'n_estimators': [10, 15, 20, 30, 50, 100]\n",
    "\n",
    "}"
   ]
  },
  {
   "cell_type": "code",
   "execution_count": 49,
   "id": "c98ea95d",
   "metadata": {},
   "outputs": [],
   "source": [
    "random_forest = RandomForestClassifier()"
   ]
  },
  {
   "cell_type": "code",
   "execution_count": 50,
   "id": "9e11f2cb",
   "metadata": {},
   "outputs": [],
   "source": [
    "rf_search = GridSearchCV(estimator=random_forest, param_grid=param_grid_vec_random,\n",
    "                         cv=3, verbose=2, n_jobs=-1)"
   ]
  },
  {
   "cell_type": "code",
   "execution_count": 51,
   "id": "d3cf3291",
   "metadata": {},
   "outputs": [
    {
     "name": "stdout",
     "output_type": "stream",
     "text": [
      "Fitting 3 folds for each of 480 candidates, totalling 1440 fits\n"
     ]
    },
    {
     "data": {
      "text/html": [
       "<style>#sk-container-id-3 {color: black;background-color: white;}#sk-container-id-3 pre{padding: 0;}#sk-container-id-3 div.sk-toggleable {background-color: white;}#sk-container-id-3 label.sk-toggleable__label {cursor: pointer;display: block;width: 100%;margin-bottom: 0;padding: 0.3em;box-sizing: border-box;text-align: center;}#sk-container-id-3 label.sk-toggleable__label-arrow:before {content: \"▸\";float: left;margin-right: 0.25em;color: #696969;}#sk-container-id-3 label.sk-toggleable__label-arrow:hover:before {color: black;}#sk-container-id-3 div.sk-estimator:hover label.sk-toggleable__label-arrow:before {color: black;}#sk-container-id-3 div.sk-toggleable__content {max-height: 0;max-width: 0;overflow: hidden;text-align: left;background-color: #f0f8ff;}#sk-container-id-3 div.sk-toggleable__content pre {margin: 0.2em;color: black;border-radius: 0.25em;background-color: #f0f8ff;}#sk-container-id-3 input.sk-toggleable__control:checked~div.sk-toggleable__content {max-height: 200px;max-width: 100%;overflow: auto;}#sk-container-id-3 input.sk-toggleable__control:checked~label.sk-toggleable__label-arrow:before {content: \"▾\";}#sk-container-id-3 div.sk-estimator input.sk-toggleable__control:checked~label.sk-toggleable__label {background-color: #d4ebff;}#sk-container-id-3 div.sk-label input.sk-toggleable__control:checked~label.sk-toggleable__label {background-color: #d4ebff;}#sk-container-id-3 input.sk-hidden--visually {border: 0;clip: rect(1px 1px 1px 1px);clip: rect(1px, 1px, 1px, 1px);height: 1px;margin: -1px;overflow: hidden;padding: 0;position: absolute;width: 1px;}#sk-container-id-3 div.sk-estimator {font-family: monospace;background-color: #f0f8ff;border: 1px dotted black;border-radius: 0.25em;box-sizing: border-box;margin-bottom: 0.5em;}#sk-container-id-3 div.sk-estimator:hover {background-color: #d4ebff;}#sk-container-id-3 div.sk-parallel-item::after {content: \"\";width: 100%;border-bottom: 1px solid gray;flex-grow: 1;}#sk-container-id-3 div.sk-label:hover label.sk-toggleable__label {background-color: #d4ebff;}#sk-container-id-3 div.sk-serial::before {content: \"\";position: absolute;border-left: 1px solid gray;box-sizing: border-box;top: 0;bottom: 0;left: 50%;z-index: 0;}#sk-container-id-3 div.sk-serial {display: flex;flex-direction: column;align-items: center;background-color: white;padding-right: 0.2em;padding-left: 0.2em;position: relative;}#sk-container-id-3 div.sk-item {position: relative;z-index: 1;}#sk-container-id-3 div.sk-parallel {display: flex;align-items: stretch;justify-content: center;background-color: white;position: relative;}#sk-container-id-3 div.sk-item::before, #sk-container-id-3 div.sk-parallel-item::before {content: \"\";position: absolute;border-left: 1px solid gray;box-sizing: border-box;top: 0;bottom: 0;left: 50%;z-index: -1;}#sk-container-id-3 div.sk-parallel-item {display: flex;flex-direction: column;z-index: 1;position: relative;background-color: white;}#sk-container-id-3 div.sk-parallel-item:first-child::after {align-self: flex-end;width: 50%;}#sk-container-id-3 div.sk-parallel-item:last-child::after {align-self: flex-start;width: 50%;}#sk-container-id-3 div.sk-parallel-item:only-child::after {width: 0;}#sk-container-id-3 div.sk-dashed-wrapped {border: 1px dashed gray;margin: 0 0.4em 0.5em 0.4em;box-sizing: border-box;padding-bottom: 0.4em;background-color: white;}#sk-container-id-3 div.sk-label label {font-family: monospace;font-weight: bold;display: inline-block;line-height: 1.2em;}#sk-container-id-3 div.sk-label-container {text-align: center;}#sk-container-id-3 div.sk-container {/* jupyter's `normalize.less` sets `[hidden] { display: none; }` but bootstrap.min.css set `[hidden] { display: none !important; }` so we also need the `!important` here to be able to override the default hidden behavior on the sphinx rendered scikit-learn.org. See: https://github.com/scikit-learn/scikit-learn/issues/21755 */display: inline-block !important;position: relative;}#sk-container-id-3 div.sk-text-repr-fallback {display: none;}</style><div id=\"sk-container-id-3\" class=\"sk-top-container\"><div class=\"sk-text-repr-fallback\"><pre>GridSearchCV(cv=3, estimator=RandomForestClassifier(), n_jobs=-1,\n",
       "             param_grid={&#x27;bootstrap&#x27;: [True, False],\n",
       "                         &#x27;criterion&#x27;: [&#x27;gini&#x27;, &#x27;entropy&#x27;],\n",
       "                         &#x27;max_depth&#x27;: [2, 3, 4, 8, 10],\n",
       "                         &#x27;max_features&#x27;: [&#x27;auto&#x27;, &#x27;sqrt&#x27;, &#x27;log2&#x27;, None],\n",
       "                         &#x27;n_estimators&#x27;: [10, 15, 20, 30, 50, 100]},\n",
       "             verbose=2)</pre><b>In a Jupyter environment, please rerun this cell to show the HTML representation or trust the notebook. <br />On GitHub, the HTML representation is unable to render, please try loading this page with nbviewer.org.</b></div><div class=\"sk-container\" hidden><div class=\"sk-item sk-dashed-wrapped\"><div class=\"sk-label-container\"><div class=\"sk-label sk-toggleable\"><input class=\"sk-toggleable__control sk-hidden--visually\" id=\"sk-estimator-id-5\" type=\"checkbox\" ><label for=\"sk-estimator-id-5\" class=\"sk-toggleable__label sk-toggleable__label-arrow\">GridSearchCV</label><div class=\"sk-toggleable__content\"><pre>GridSearchCV(cv=3, estimator=RandomForestClassifier(), n_jobs=-1,\n",
       "             param_grid={&#x27;bootstrap&#x27;: [True, False],\n",
       "                         &#x27;criterion&#x27;: [&#x27;gini&#x27;, &#x27;entropy&#x27;],\n",
       "                         &#x27;max_depth&#x27;: [2, 3, 4, 8, 10],\n",
       "                         &#x27;max_features&#x27;: [&#x27;auto&#x27;, &#x27;sqrt&#x27;, &#x27;log2&#x27;, None],\n",
       "                         &#x27;n_estimators&#x27;: [10, 15, 20, 30, 50, 100]},\n",
       "             verbose=2)</pre></div></div></div><div class=\"sk-parallel\"><div class=\"sk-parallel-item\"><div class=\"sk-item\"><div class=\"sk-label-container\"><div class=\"sk-label sk-toggleable\"><input class=\"sk-toggleable__control sk-hidden--visually\" id=\"sk-estimator-id-6\" type=\"checkbox\" ><label for=\"sk-estimator-id-6\" class=\"sk-toggleable__label sk-toggleable__label-arrow\">estimator: RandomForestClassifier</label><div class=\"sk-toggleable__content\"><pre>RandomForestClassifier()</pre></div></div></div><div class=\"sk-serial\"><div class=\"sk-item\"><div class=\"sk-estimator sk-toggleable\"><input class=\"sk-toggleable__control sk-hidden--visually\" id=\"sk-estimator-id-7\" type=\"checkbox\" ><label for=\"sk-estimator-id-7\" class=\"sk-toggleable__label sk-toggleable__label-arrow\">RandomForestClassifier</label><div class=\"sk-toggleable__content\"><pre>RandomForestClassifier()</pre></div></div></div></div></div></div></div></div></div></div>"
      ],
      "text/plain": [
       "GridSearchCV(cv=3, estimator=RandomForestClassifier(), n_jobs=-1,\n",
       "             param_grid={'bootstrap': [True, False],\n",
       "                         'criterion': ['gini', 'entropy'],\n",
       "                         'max_depth': [2, 3, 4, 8, 10],\n",
       "                         'max_features': ['auto', 'sqrt', 'log2', None],\n",
       "                         'n_estimators': [10, 15, 20, 30, 50, 100]},\n",
       "             verbose=2)"
      ]
     },
     "execution_count": 51,
     "metadata": {},
     "output_type": "execute_result"
    }
   ],
   "source": [
    "rf_search.fit(X_train, y_train)"
   ]
  },
  {
   "cell_type": "markdown",
   "id": "ae9fd392",
   "metadata": {},
   "source": [
    "WARNING:\n",
    "PARA ANALIZAR EL RANDOM FOREST\n",
    "El error que estás viendo se relaciona con los parámetros del modelo `RandomForestClassifier` en una búsqueda de hiperparámetros utilizando `GridSearchCV`. El mensaje de error específicamente menciona el parámetro `max_features`, que debe ser configurado correctamente para que la búsqueda de hiperparámetros funcione sin problemas.\n",
    "\n",
    "El error dice:\n",
    "\n",
    "```\n",
    "sklearn.utils._param_validation.InvalidParameterError: The 'max_features' parameter of RandomForestClassifier must be an int in the range [1, inf), a float in the range (0.0, 1.0], a str among {'sqrt', 'log2'} or None. Got 'auto' instead.\n",
    "```\n",
    "\n",
    "El parámetro `max_features` de `RandomForestClassifier` debe ser uno de los siguientes:\n",
    "\n",
    "- Un entero en el rango [1, infinito).\n",
    "- Un flotante en el rango (0.0, 1.0].\n",
    "- Una cadena que sea 'sqrt' o 'log2'.\n",
    "- `None`.\n",
    "\n",
    "Para solucionar este error, debes asegurarte de que estés configurando `max_features` con uno de estos valores permitidos. Por ejemplo:\n",
    "\n",
    "```python\n",
    "'random_state': [42],\n",
    "'max_features': ['sqrt', 'log2', None, 0.2, 0.5, 1, 2, 3, 4],\n",
    "```\n",
    "\n",
    "Asegúrate de que `max_features` esté configurado con uno de estos valores permitidos en tu búsqueda de hiperparámetros para que no se genere este error. Si estás utilizando 'auto' como valor, cámbialo a uno de los valores permitidos, como 'sqrt', 'log2' o un valor numérico apropiado."
   ]
  },
  {
   "cell_type": "code",
   "execution_count": 52,
   "id": "5cf15b9e",
   "metadata": {},
   "outputs": [
    {
     "data": {
      "text/plain": [
       "{'bootstrap': True,\n",
       " 'criterion': 'gini',\n",
       " 'max_depth': 10,\n",
       " 'max_features': None,\n",
       " 'n_estimators': 30}"
      ]
     },
     "execution_count": 52,
     "metadata": {},
     "output_type": "execute_result"
    }
   ],
   "source": [
    "# Mejores hiperparámetros\n",
    "rf_search.best_params_"
   ]
  },
  {
   "cell_type": "code",
   "execution_count": 59,
   "id": "29f368d0",
   "metadata": {},
   "outputs": [],
   "source": [
    "rf_best = RandomForestClassifier(bootstrap=True, criterion='gini', max_depth=10, max_features=None, n_estimators=30)"
   ]
  },
  {
   "cell_type": "code",
   "execution_count": 60,
   "id": "c6490421",
   "metadata": {},
   "outputs": [
    {
     "data": {
      "text/html": [
       "<style>#sk-container-id-5 {color: black;background-color: white;}#sk-container-id-5 pre{padding: 0;}#sk-container-id-5 div.sk-toggleable {background-color: white;}#sk-container-id-5 label.sk-toggleable__label {cursor: pointer;display: block;width: 100%;margin-bottom: 0;padding: 0.3em;box-sizing: border-box;text-align: center;}#sk-container-id-5 label.sk-toggleable__label-arrow:before {content: \"▸\";float: left;margin-right: 0.25em;color: #696969;}#sk-container-id-5 label.sk-toggleable__label-arrow:hover:before {color: black;}#sk-container-id-5 div.sk-estimator:hover label.sk-toggleable__label-arrow:before {color: black;}#sk-container-id-5 div.sk-toggleable__content {max-height: 0;max-width: 0;overflow: hidden;text-align: left;background-color: #f0f8ff;}#sk-container-id-5 div.sk-toggleable__content pre {margin: 0.2em;color: black;border-radius: 0.25em;background-color: #f0f8ff;}#sk-container-id-5 input.sk-toggleable__control:checked~div.sk-toggleable__content {max-height: 200px;max-width: 100%;overflow: auto;}#sk-container-id-5 input.sk-toggleable__control:checked~label.sk-toggleable__label-arrow:before {content: \"▾\";}#sk-container-id-5 div.sk-estimator input.sk-toggleable__control:checked~label.sk-toggleable__label {background-color: #d4ebff;}#sk-container-id-5 div.sk-label input.sk-toggleable__control:checked~label.sk-toggleable__label {background-color: #d4ebff;}#sk-container-id-5 input.sk-hidden--visually {border: 0;clip: rect(1px 1px 1px 1px);clip: rect(1px, 1px, 1px, 1px);height: 1px;margin: -1px;overflow: hidden;padding: 0;position: absolute;width: 1px;}#sk-container-id-5 div.sk-estimator {font-family: monospace;background-color: #f0f8ff;border: 1px dotted black;border-radius: 0.25em;box-sizing: border-box;margin-bottom: 0.5em;}#sk-container-id-5 div.sk-estimator:hover {background-color: #d4ebff;}#sk-container-id-5 div.sk-parallel-item::after {content: \"\";width: 100%;border-bottom: 1px solid gray;flex-grow: 1;}#sk-container-id-5 div.sk-label:hover label.sk-toggleable__label {background-color: #d4ebff;}#sk-container-id-5 div.sk-serial::before {content: \"\";position: absolute;border-left: 1px solid gray;box-sizing: border-box;top: 0;bottom: 0;left: 50%;z-index: 0;}#sk-container-id-5 div.sk-serial {display: flex;flex-direction: column;align-items: center;background-color: white;padding-right: 0.2em;padding-left: 0.2em;position: relative;}#sk-container-id-5 div.sk-item {position: relative;z-index: 1;}#sk-container-id-5 div.sk-parallel {display: flex;align-items: stretch;justify-content: center;background-color: white;position: relative;}#sk-container-id-5 div.sk-item::before, #sk-container-id-5 div.sk-parallel-item::before {content: \"\";position: absolute;border-left: 1px solid gray;box-sizing: border-box;top: 0;bottom: 0;left: 50%;z-index: -1;}#sk-container-id-5 div.sk-parallel-item {display: flex;flex-direction: column;z-index: 1;position: relative;background-color: white;}#sk-container-id-5 div.sk-parallel-item:first-child::after {align-self: flex-end;width: 50%;}#sk-container-id-5 div.sk-parallel-item:last-child::after {align-self: flex-start;width: 50%;}#sk-container-id-5 div.sk-parallel-item:only-child::after {width: 0;}#sk-container-id-5 div.sk-dashed-wrapped {border: 1px dashed gray;margin: 0 0.4em 0.5em 0.4em;box-sizing: border-box;padding-bottom: 0.4em;background-color: white;}#sk-container-id-5 div.sk-label label {font-family: monospace;font-weight: bold;display: inline-block;line-height: 1.2em;}#sk-container-id-5 div.sk-label-container {text-align: center;}#sk-container-id-5 div.sk-container {/* jupyter's `normalize.less` sets `[hidden] { display: none; }` but bootstrap.min.css set `[hidden] { display: none !important; }` so we also need the `!important` here to be able to override the default hidden behavior on the sphinx rendered scikit-learn.org. See: https://github.com/scikit-learn/scikit-learn/issues/21755 */display: inline-block !important;position: relative;}#sk-container-id-5 div.sk-text-repr-fallback {display: none;}</style><div id=\"sk-container-id-5\" class=\"sk-top-container\"><div class=\"sk-text-repr-fallback\"><pre>RandomForestClassifier(max_depth=10, max_features=None, n_estimators=30)</pre><b>In a Jupyter environment, please rerun this cell to show the HTML representation or trust the notebook. <br />On GitHub, the HTML representation is unable to render, please try loading this page with nbviewer.org.</b></div><div class=\"sk-container\" hidden><div class=\"sk-item\"><div class=\"sk-estimator sk-toggleable\"><input class=\"sk-toggleable__control sk-hidden--visually\" id=\"sk-estimator-id-9\" type=\"checkbox\" checked><label for=\"sk-estimator-id-9\" class=\"sk-toggleable__label sk-toggleable__label-arrow\">RandomForestClassifier</label><div class=\"sk-toggleable__content\"><pre>RandomForestClassifier(max_depth=10, max_features=None, n_estimators=30)</pre></div></div></div></div></div>"
      ],
      "text/plain": [
       "RandomForestClassifier(max_depth=10, max_features=None, n_estimators=30)"
      ]
     },
     "execution_count": 60,
     "metadata": {},
     "output_type": "execute_result"
    }
   ],
   "source": [
    "rf_best.fit(X_train, y_train)"
   ]
  },
  {
   "cell_type": "code",
   "execution_count": 61,
   "id": "23323ccf",
   "metadata": {},
   "outputs": [],
   "source": [
    "new_predictions_rf = rf_best.predict(X_test)"
   ]
  },
  {
   "cell_type": "markdown",
   "id": "3ed65517",
   "metadata": {},
   "source": [
    "**Métricas**\n",
    "\n",
    "Matriz de confusión:\n",
    "\n",
    "True Positive (TP)  |  False Negative (FN)   \n",
    "= = = = = = = = = = = = = = = = = = = = =       \n",
    "False positive (FP) | True Negative (TN)   \n"
   ]
  },
  {
   "cell_type": "code",
   "execution_count": 62,
   "id": "80ce5635",
   "metadata": {},
   "outputs": [
    {
     "data": {
      "image/png": "[encoded data removed]",
      "text/plain": [
       "<Figure size 640x480 with 2 Axes>"
      ]
     },
     "metadata": {},
     "output_type": "display_data"
    }
   ],
   "source": [
    "plt.figure()\n",
    "random_confusion = confusion_matrix(y_test, new_predictions_rf)\n",
    "ax=sns.heatmap(random_confusion, cmap=\"YlGnBu\",annot=True,fmt='d');\n",
    "ax.set_xlabel(\"Motivos por los cuales viajan (predicción)\", fontsize=12, labelpad=20)\n",
    "ax.xaxis.set_ticklabels(['Si', 'No'])\n",
    "ax.set_ylabel(\"Motivos por los cuales viajan (real)\", fontsize=12, labelpad=20)\n",
    "ax.yaxis.set_ticklabels(['Si', 'No'])\n",
    "ax.set_title(\"Confusion Matrix Modelo RF de motivos de viajes\", fontsize=14, pad=20)\n",
    "plt.show()"
   ]
  },
  {
   "cell_type": "code",
   "execution_count": 63,
   "id": "cda59e6d",
   "metadata": {},
   "outputs": [
    {
     "name": "stdout",
     "output_type": "stream",
     "text": [
      "Accuracy: 87.79%\n",
      "Precision: 85.46%\n",
      "Recall: 90.62%\n",
      "F1 score: 87.96%\n"
     ]
    }
   ],
   "source": [
    "print(f\"Accuracy: {accuracy_score(y_test, new_predictions_rf)*100 :.2f}%\")\n",
    "print(f\"Precision: {precision_score(y_test, new_predictions_rf)*100 :.2f}%\")\n",
    "print(f\"Recall: {recall_score(y_test, new_predictions_rf)*100 :.2f}%\")\n",
    "print(f\"F1 score: {f1_score(y_test, new_predictions_rf)*100 :.2f}%\")"
   ]
  },
  {
   "cell_type": "code",
   "execution_count": 64,
   "id": "151b463b",
   "metadata": {},
   "outputs": [
    {
     "name": "stdout",
     "output_type": "stream",
     "text": [
      "Variable: veces_por_semana_viaja Importance: 0.35\n",
      "Variable: ambito_cursando Importance: 0.28\n",
      "Variable: distancia_viaje_km Importance: 0.15\n",
      "Variable: edad Importance: 0.05\n",
      "Variable: duracion_minutos Importance: 0.04\n",
      "Variable: sexo Importance: 0.03\n",
      "Variable: Unnamed: 0_x Importance: 0.02\n",
      "Variable: modo_des Importance: 0.02\n",
      "Variable: nivel_aprobado Importance: 0.02\n",
      "Variable: partido_origen_viaje Importance: 0.01\n",
      "Variable: partido_destino_viaje Importance: 0.01\n",
      "Variable: Unnamed: 0_y Importance: 0.01\n",
      "Variable: cantidad_etapas Importance: 0.0\n",
      "Variable: tipo_viaje Importance: 0.0\n",
      "Variable: licencia_de_conducir Importance: 0.0\n"
     ]
    },
    {
     "data": {
      "image/png": "[encoded data removed]",
      "text/plain": [
       "<Figure size 640x480 with 1 Axes>"
      ]
     },
     "metadata": {},
     "output_type": "display_data"
    }
   ],
   "source": [
    "feature_importance(rf_best, lista_atributos)"
   ]
  },
  {
   "cell_type": "markdown",
   "id": "66a5f79a",
   "metadata": {},
   "source": [
    "Del análisis se desprende que el Modelo de K Vecinos predice mejor que el Random Forest. Las variables que más explican el motivo por el cual viajan son las veces por semana que viajen, ambito de cursado, su distancia, edad y duracion."
   ]
  },
  {
   "cell_type": "code",
   "execution_count": null,
   "id": "ff895b97",
   "metadata": {},
   "outputs": [],
   "source": []
  }
 ],
 "metadata": {
  "colab": {
   "provenance": []
  },
  "kernelspec": {
   "display_name": "Python 3 (ipykernel)",
   "language": "python",
   "name": "python3"
  },
  "language_info": {
   "codemirror_mode": {
    "name": "ipython",
    "version": 3
   },
   "file_extension": ".py",
   "mimetype": "text/x-python",
   "name": "python",
   "nbconvert_exporter": "python",
   "pygments_lexer": "ipython3",
   "version": "3.10.9"
  }
 },
 "nbformat": 4,
 "nbformat_minor": 5
}
