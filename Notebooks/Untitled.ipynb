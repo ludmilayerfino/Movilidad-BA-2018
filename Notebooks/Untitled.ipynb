{
 "cells": [
  {
   "cell_type": "code",
   "execution_count": 6,
   "id": "20ee746d",
   "metadata": {},
   "outputs": [
    {
     "ename": "NameError",
     "evalue": "name 'personas' is not defined",
     "output_type": "error",
     "traceback": [
      "\u001b[1;31m---------------------------------------------------------------------------\u001b[0m",
      "\u001b[1;31mNameError\u001b[0m                                 Traceback (most recent call last)",
      "Cell \u001b[1;32mIn[6], line 6\u001b[0m\n\u001b[0;32m      4\u001b[0m \u001b[38;5;28;01mimport\u001b[39;00m \u001b[38;5;21;01mmatplotlib\u001b[39;00m\u001b[38;5;21;01m.\u001b[39;00m\u001b[38;5;21;01mpyplot\u001b[39;00m \u001b[38;5;28;01mas\u001b[39;00m \u001b[38;5;21;01mplt\u001b[39;00m\n\u001b[0;32m      5\u001b[0m categorias \u001b[38;5;241m=\u001b[39m [\u001b[38;5;124m'\u001b[39m\u001b[38;5;124mNinguno\u001b[39m\u001b[38;5;124m'\u001b[39m,\u001b[38;5;124m'\u001b[39m\u001b[38;5;124mPrimario\u001b[39m\u001b[38;5;124m'\u001b[39m,\u001b[38;5;124m'\u001b[39m\u001b[38;5;124mSecundario\u001b[39m\u001b[38;5;124m'\u001b[39m,\u001b[38;5;124m'\u001b[39m\u001b[38;5;124mTerciario\u001b[39m\u001b[38;5;124m'\u001b[39m,\u001b[38;5;124m'\u001b[39m\u001b[38;5;124mUniversitario\u001b[39m\u001b[38;5;124m'\u001b[39m,\u001b[38;5;124m'\u001b[39m\u001b[38;5;124mPost Universitario\u001b[39m\u001b[38;5;124m'\u001b[39m,\u001b[38;5;124m'\u001b[39m\u001b[38;5;124mEducación Especial\u001b[39m\u001b[38;5;124m'\u001b[39m,\u001b[38;5;124m'\u001b[39m\u001b[38;5;124mOtro\u001b[39m\u001b[38;5;124m'\u001b[39m]\n\u001b[1;32m----> 6\u001b[0m data1 \u001b[38;5;241m=\u001b[39m personas[\u001b[38;5;124m'\u001b[39m\u001b[38;5;124mnivel_aprobado\u001b[39m\u001b[38;5;124m'\u001b[39m]\u001b[38;5;241m.\u001b[39mvalue_counts() \u001b[38;5;241m/\u001b[39m total_personas\u001b[38;5;241m*\u001b[39m\u001b[38;5;241m100\u001b[39m\n\u001b[0;32m      8\u001b[0m \u001b[38;5;66;03m# Crear el objeto de la figura y el objeto de los ejes\u001b[39;00m\n\u001b[0;32m      9\u001b[0m fig, ax \u001b[38;5;241m=\u001b[39m plt\u001b[38;5;241m.\u001b[39msubplots()\n",
      "\u001b[1;31mNameError\u001b[0m: name 'personas' is not defined"
     ]
    }
   ],
   "source": [
    "# Datos para el gráfico de barras\n",
    "#plt.figure(figsize=(8, 6))\n",
    "#data1 = personas['nivel_aprobado'].value_counts() / total_personas * 100\n",
    "import matplotlib.pyplot as plt\n",
    "categorias = ['Ninguno','Primario','Secundario','Terciario','Universitario','Post Universitario','Educación Especial','Otro']\n",
    "data1 = personas['nivel_aprobado'].value_counts() / total_personas*100\n",
    "\n",
    "# Crear el objeto de la figura y el objeto de los ejes\n",
    "fig, ax = plt.subplots()\n",
    "\n",
    "# Crear el gráfico de barras\n",
    "ax.bar(categorias, data1)\n",
    "\n",
    "# Personalizar el gráfico (opcional)\n",
    "ax.set_title('Gráfico de Barras')\n",
    "ax.set_xlabel('Categorías')\n",
    "ax.set_ylabel('Valores')\n",
    "\n",
    "# Mostrar el gráfico\n",
    "plt.show()\n"
   ]
  },
  {
   "cell_type": "code",
   "execution_count": null,
   "id": "d8ffa73e",
   "metadata": {},
   "outputs": [],
   "source": []
  }
 ],
 "metadata": {
  "kernelspec": {
   "display_name": "Python 3 (ipykernel)",
   "language": "python",
   "name": "python3"
  },
  "language_info": {
   "codemirror_mode": {
    "name": "ipython",
    "version": 3
   },
   "file_extension": ".py",
   "mimetype": "text/x-python",
   "name": "python",
   "nbconvert_exporter": "python",
   "pygments_lexer": "ipython3",
   "version": "3.11.4"
  }
 },
 "nbformat": 4,
 "nbformat_minor": 5
}
