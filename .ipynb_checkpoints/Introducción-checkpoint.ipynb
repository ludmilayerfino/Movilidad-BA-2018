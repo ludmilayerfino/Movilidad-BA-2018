{
 "cells": [
  {
   "attachments": {},
   "cell_type": "markdown",
   "id": "e22c9fb2",
   "metadata": {},
   "source": [
    "<div style=\"text-align: center;\">\n",
    "  <span style=\"font-size: 24px;\"><strong>PROYECTO DE PREDICCIÓN DE TENDENCIAS EN LA MOVILIDAD EN CABA</strong></span>\n",
    "</div>"
   ]
  },
  {
   "cell_type": "markdown",
   "id": "51463922",
   "metadata": {},
   "source": [
    "<div style=\"float: left; margin: 10px 10px 10px 10px\">\n",
    "  <img src=\"Ingenias Logo.png\" alt=\"Ingenias\" width=\"100\"/>\n",
    "</div>\n",
    "\n",
    "<div style=\"text-align: center;\">\n",
    "  <p><strong>STRAWBERRY TEAM - Ingenias Data Science.</strong></p>\n",
    "</div>\n",
    "\n",
    "Ludmila Yerfino, Ingeniera Industrial, Malargüe - Mendoza - Argentina\n",
    "Marcela Luciana Tobes, Licenciada en Economía, La Plata - Buenos Aires - Argentina\n",
    "Marcela Karina Salas, Industria del Petróleo, Comodoro Rivadavia - Chubut - Argentina\n",
    "Marcela Adriana Salvattore, Abogada, Corrientes - Corrientes -Argentina"
   ]
  },
  {
   "cell_type": "markdown",
   "id": "8c771aac",
   "metadata": {},
   "source": [
    "\n",
    "## Objetivo\n",
    "Analizar las tendencias en la movilidad en la Ciudad de Buenos Aires para con esa información poder, mediante la aplicación de modelos predictivos, establecer la proyección para la definición de los flujos de movimiento y en base a ello, diseñar estrategias de abordaje desde la política pública."
   ]
  },
  {
   "cell_type": "markdown",
   "id": "d303de8e",
   "metadata": {},
   "source": [
    "## Fuentes de Información\n",
    "Se tomó la Encuesta de Movilidad Domiciliaria 2018 generada por la Subsecretaría de Planificación de la Movilidad, de la Dirección General de Planificación, Uso y Evaluación, dependiente de la Gerencia Operativa del Observatorio de Movilidad y Seguridad Vial del Gobierno de la Ciudad de Buenos Aires.\n",
    "\n",
    "Esta encuesta incluye las bases de hogares, personas, viajes, etapas, un diccionario de registros y el cuestionario utilizado.\n",
    "\n",
    "[Encuesta de Movilidad Domiciliaria 2018](https://data.buenosaires.gob.ar/dataset/encuesta-movilidad-domiciliaria)\n",
    "![BA%20Data%20Logo.png](attachment:BA%20Data%20Logo.png)"
   ]
  },
  {
   "cell_type": "markdown",
   "id": "0d5f4a29",
   "metadata": {},
   "source": [
    "## Requerimientos técnicos\n",
    "Para poder trabajar en la base de datos que creamos a partir de la fusión de las 3 bases que contenía la encuesta, utilizamos un entorno Anaconda, con Jupyter Notebook como interfaz y debimos hacer uso de las siguientes librerías: Pandas, NumPy, Seaborn, Matplotlib y Scikit-Learn."
   ]
  }
 ],
 "metadata": {
  "kernelspec": {
   "display_name": "Python 3 (ipykernel)",
   "language": "python",
   "name": "python3"
  },
  "language_info": {
   "codemirror_mode": {
    "name": "ipython",
    "version": 3
   },
   "file_extension": ".py",
   "mimetype": "text/x-python",
   "name": "python",
   "nbconvert_exporter": "python",
   "pygments_lexer": "ipython3",
   "version": "3.11.4"
  }
 },
 "nbformat": 4,
 "nbformat_minor": 5
}
